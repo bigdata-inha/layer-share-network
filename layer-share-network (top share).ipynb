{
 "cells": [
  {
   "cell_type": "code",
   "execution_count": 1,
   "metadata": {},
   "outputs": [],
   "source": [
    "import os\n",
    "import numpy as np\n",
    "\n",
    "train1_dir = 'C:/Users/KIMHAKBIN/A_My Python/Datacloud/digits/MNIST_mni/train'\n",
    "test1_dir = 'C:/Users/KIMHAKBIN/A_My Python/Datacloud/digits/MNIST_mni/test'"
   ]
  },
  {
   "cell_type": "code",
   "execution_count": 2,
   "metadata": {},
   "outputs": [],
   "source": [
    "train2_dir = 'C:/Users/KIMHAKBIN/A_My Python/Datacloud/digits/Original/USPS_categorize/train'\n",
    "test2_dir = 'C:/Users/KIMHAKBIN/A_My Python/Datacloud/digits/Original/USPS_categorize/test'"
   ]
  },
  {
   "cell_type": "code",
   "execution_count": 3,
   "metadata": {},
   "outputs": [],
   "source": [
    "train3_dir = 'C:/Users/KIMHAKBIN/A_My Python/Datacloud/digits/SVHN_mni/train'\n",
    "test3_dir = 'C:/Users/KIMHAKBIN/A_My Python/Datacloud/digits/SVHN_mni/test'"
   ]
  },
  {
   "cell_type": "code",
   "execution_count": 4,
   "metadata": {},
   "outputs": [
    {
     "name": "stderr",
     "output_type": "stream",
     "text": [
      "Using TensorFlow backend.\n"
     ]
    }
   ],
   "source": [
    "from keras.preprocessing.image import ImageDataGenerator\n",
    "\n",
    "train_datagen = ImageDataGenerator(rescale = 1./255)\n",
    "test_datagen = ImageDataGenerator(rescale = 1./255)\n",
    "\n",
    "def generate_generator_multiple(generator, dir1, dir2, dir3):\n",
    "    genX1 = generator.flow_from_directory(dir1,\n",
    "                                          target_size = (28,28),\n",
    "                                          batch_size=64,\n",
    "                                          color_mode=\"grayscale\",\n",
    "                                          class_mode='categorical')\n",
    "    \n",
    "    genX2 = generator.flow_from_directory(dir2,\n",
    "                                          target_size = (28,28),\n",
    "                                          batch_size=64,\n",
    "                                          color_mode=\"grayscale\",\n",
    "                                          class_mode='categorical')\n",
    "    \n",
    "    genX3 = generator.flow_from_directory(dir3,\n",
    "                                          target_size = (28,28),\n",
    "                                          batch_size=64,                                          \n",
    "                                          class_mode='categorical')\n",
    "    \n",
    "    while True:\n",
    "        X_1, Y_1 = genX1.next()\n",
    "        X_2, Y_2 = genX2.next()\n",
    "        X_3, Y_3 = genX3.next()\n",
    "        \n",
    "        X_1 = np.tile(X_1, [1,1,1,3])\n",
    "        X_2 = np.tile(X_2, [1,1,1,3])\n",
    "        \n",
    "        \n",
    "        yield [X_1, X_2, X_3],[Y_1, Y_2, Y_3]"
   ]
  },
  {
   "cell_type": "code",
   "execution_count": 5,
   "metadata": {},
   "outputs": [],
   "source": [
    "inputgenerator=generate_generator_multiple(generator=train_datagen,\n",
    "                                           dir1=train1_dir,\n",
    "                                           dir2=train2_dir,\n",
    "                                           dir3=train3_dir)"
   ]
  },
  {
   "cell_type": "code",
   "execution_count": 6,
   "metadata": {},
   "outputs": [],
   "source": [
    "testgenerator=generate_generator_multiple(generator=test_datagen,\n",
    "                                           dir1=test1_dir,\n",
    "                                           dir2=test2_dir,\n",
    "                                           dir3=test3_dir)"
   ]
  },
  {
   "cell_type": "code",
   "execution_count": 7,
   "metadata": {},
   "outputs": [],
   "source": [
    "# mdoel1\n",
    "from keras.models import Model\n",
    "from keras import layers\n",
    "from keras import Input\n",
    "\n",
    "# input1 주입\n",
    "input_MNIST = Input(shape=(28, 28, 3))\n",
    "# input2 주입\n",
    "input_USPS = Input(shape=(28, 28, 3))\n",
    "# input3 주입\n",
    "input_SVHN = Input(shape=(28, 28, 3))\n",
    "\n",
    "\n",
    "## private layer에 data 주입\n",
    "\n",
    "# MNIST\n",
    "x_1 = layers.Conv2D(32, (3, 3), activation='relu')(input_MNIST)\n",
    "x_1 = layers.Conv2D(32, (3, 3), activation='relu')(x_1)\n",
    "x_1 = layers.MaxPooling2D((2,2))(x_1)\n",
    "\n",
    "# USPS\n",
    "x_2 = layers.Conv2D(32, (3, 3), activation='relu')(input_USPS)\n",
    "x_2 = layers.Conv2D(32, (3, 3), activation='relu')(x_2)\n",
    "x_2 = layers.MaxPooling2D((2,2))(x_2)\n",
    "\n",
    "# SVHN\n",
    "x_3 = layers.Conv2D(32, (3, 3), activation='relu')(input_SVHN)\n",
    "x_3 = layers.Conv2D(32, (3, 3), activation='relu')(x_3)\n",
    "x_3 = layers.MaxPooling2D((2,2))(x_3)\n",
    "\n",
    "x_3 = layers.Conv2D(64, (3, 3), activation='relu')(x_3)\n",
    "x_3 = layers.Conv2D(64, (3, 3), activation='relu')(x_3)\n",
    "x_3 = layers.MaxPooling2D((2,2))(x_3)\n",
    "\n",
    "\n",
    "# shared layer(MNIST, USPS) 생성\n",
    "\n",
    "sh_MU_conv1 = layers.Conv2D(64, (3, 3), activation='relu')\n",
    "sh_MU_conv2 = layers.Conv2D(64, (3, 3), activation='relu')\n",
    "sh_MU_MaxPool1 = layers.MaxPooling2D((2,2))\n",
    "\n",
    "# shared layer(MNIST, USPS)에 data 주입\n",
    "\n",
    "x_1 = sh_MU_conv1(x_1)\n",
    "x_1 = sh_MU_conv2(x_1)\n",
    "x_1 = sh_MU_MaxPool1(x_1)\n",
    "\n",
    "x_2 = sh_MU_conv1(x_2)\n",
    "x_2 = sh_MU_conv2(x_2)\n",
    "x_2 = sh_MU_MaxPool1(x_2)\n",
    "\n",
    "\n",
    "# shared layer(ALL) 생성\n",
    "\n",
    "sh_Flatten =layers.Flatten()\n",
    "sh_Dense128 =layers.Dense(128, activation='relu')\n",
    "sh_Dense10 = layers.Dense(10, activation='softmax')\n",
    "\n",
    "# shared layer(ALL)에 data 주입\n",
    "\n",
    "x_1 = sh_Flatten(x_1)\n",
    "x_1 = sh_Dense128(x_1)\n",
    "output_1 = sh_Dense10(x_1)\n",
    "\n",
    "x_2 = sh_Flatten(x_2)\n",
    "x_2 = sh_Dense128(x_2)\n",
    "output_2 = sh_Dense10(x_2)\n",
    "\n",
    "x_3 = sh_Flatten(x_3)\n",
    "x_3 = sh_Dense128(x_3)\n",
    "#x_3 = sh_Dropout(x_3)\n",
    "output_3 = sh_Dense10(x_3)\n",
    "\n",
    "\n",
    "\n",
    "\n",
    "\n",
    "model = Model([input_MNIST, input_USPS, input_SVHN], [output_1, output_2, output_3])"
   ]
  },
  {
   "cell_type": "code",
   "execution_count": 8,
   "metadata": {},
   "outputs": [
    {
     "name": "stdout",
     "output_type": "stream",
     "text": [
      "__________________________________________________________________________________________________\n",
      "Layer (type)                    Output Shape         Param #     Connected to                     \n",
      "==================================================================================================\n",
      "input_1 (InputLayer)            (None, 28, 28, 3)    0                                            \n",
      "__________________________________________________________________________________________________\n",
      "input_2 (InputLayer)            (None, 28, 28, 3)    0                                            \n",
      "__________________________________________________________________________________________________\n",
      "input_3 (InputLayer)            (None, 28, 28, 3)    0                                            \n",
      "__________________________________________________________________________________________________\n",
      "conv2d_1 (Conv2D)               (None, 26, 26, 32)   896         input_1[0][0]                    \n",
      "__________________________________________________________________________________________________\n",
      "conv2d_3 (Conv2D)               (None, 26, 26, 32)   896         input_2[0][0]                    \n",
      "__________________________________________________________________________________________________\n",
      "conv2d_5 (Conv2D)               (None, 26, 26, 32)   896         input_3[0][0]                    \n",
      "__________________________________________________________________________________________________\n",
      "conv2d_2 (Conv2D)               (None, 24, 24, 32)   9248        conv2d_1[0][0]                   \n",
      "__________________________________________________________________________________________________\n",
      "conv2d_4 (Conv2D)               (None, 24, 24, 32)   9248        conv2d_3[0][0]                   \n",
      "__________________________________________________________________________________________________\n",
      "conv2d_6 (Conv2D)               (None, 24, 24, 32)   9248        conv2d_5[0][0]                   \n",
      "__________________________________________________________________________________________________\n",
      "max_pooling2d_1 (MaxPooling2D)  (None, 12, 12, 32)   0           conv2d_2[0][0]                   \n",
      "__________________________________________________________________________________________________\n",
      "max_pooling2d_2 (MaxPooling2D)  (None, 12, 12, 32)   0           conv2d_4[0][0]                   \n",
      "__________________________________________________________________________________________________\n",
      "max_pooling2d_3 (MaxPooling2D)  (None, 12, 12, 32)   0           conv2d_6[0][0]                   \n",
      "__________________________________________________________________________________________________\n",
      "conv2d_9 (Conv2D)               (None, 10, 10, 64)   18496       max_pooling2d_1[0][0]            \n",
      "                                                                 max_pooling2d_2[0][0]            \n",
      "__________________________________________________________________________________________________\n",
      "conv2d_7 (Conv2D)               (None, 10, 10, 64)   18496       max_pooling2d_3[0][0]            \n",
      "__________________________________________________________________________________________________\n",
      "conv2d_10 (Conv2D)              (None, 8, 8, 64)     36928       conv2d_9[0][0]                   \n",
      "                                                                 conv2d_9[1][0]                   \n",
      "__________________________________________________________________________________________________\n",
      "conv2d_8 (Conv2D)               (None, 8, 8, 64)     36928       conv2d_7[0][0]                   \n",
      "__________________________________________________________________________________________________\n",
      "max_pooling2d_5 (MaxPooling2D)  (None, 4, 4, 64)     0           conv2d_10[0][0]                  \n",
      "                                                                 conv2d_10[1][0]                  \n",
      "__________________________________________________________________________________________________\n",
      "max_pooling2d_4 (MaxPooling2D)  (None, 4, 4, 64)     0           conv2d_8[0][0]                   \n",
      "__________________________________________________________________________________________________\n",
      "flatten_1 (Flatten)             (None, 1024)         0           max_pooling2d_5[0][0]            \n",
      "                                                                 max_pooling2d_5[1][0]            \n",
      "                                                                 max_pooling2d_4[0][0]            \n",
      "__________________________________________________________________________________________________\n",
      "dense_1 (Dense)                 (None, 128)          131200      flatten_1[0][0]                  \n",
      "                                                                 flatten_1[1][0]                  \n",
      "                                                                 flatten_1[2][0]                  \n",
      "__________________________________________________________________________________________________\n",
      "dense_2 (Dense)                 (None, 10)           1290        dense_1[0][0]                    \n",
      "                                                                 dense_1[1][0]                    \n",
      "                                                                 dense_1[2][0]                    \n",
      "==================================================================================================\n",
      "Total params: 273,770\n",
      "Trainable params: 273,770\n",
      "Non-trainable params: 0\n",
      "__________________________________________________________________________________________________\n"
     ]
    }
   ],
   "source": [
    "model.summary()"
   ]
  },
  {
   "cell_type": "code",
   "execution_count": 9,
   "metadata": {},
   "outputs": [],
   "source": [
    "from keras.optimizers import Optimizer\n",
    "from keras_lr_multiplier import LRMultiplier\n",
    "\n",
    "\n",
    "multipliers = {'conv2d_1': 0.333}\n",
    "# LRMultiplier('rmsprop', multipliers)\n",
    "model.compile(optimizer='rmsprop',\n",
    "             loss=['categorical_crossentropy','categorical_crossentropy','categorical_crossentropy'],\n",
    "             metrics=['acc', 'acc', 'acc'])"
   ]
  },
  {
   "cell_type": "code",
   "execution_count": 10,
   "metadata": {
    "scrolled": false
   },
   "outputs": [
    {
     "name": "stdout",
     "output_type": "stream",
     "text": [
      "Epoch 1/60\n",
      "Found 2007 images belonging to 10 classes.\n",
      "Found 2007 images belonging to 10 classes.\n",
      "Found 7291 images belonging to 10 classes.\n",
      "Found 2007 images belonging to 10 classes.\n",
      "Found 7291 images belonging to 10 classes.\n",
      "Found 7291 images belonging to 10 classes.\n",
      "120/120 [==============================] - 19s 158ms/step - loss: 3.0017 - dense_2_loss: 1.9760 - dense_2_acc: 0.8324 - dense_2_acc_1: 0.8324 - dense_2_acc_2: 0.8324 - dense_2_acc_3: 0.8489 - dense_2_acc_4: 0.8489 - dense_2_acc_5: 0.8489 - dense_2_acc_6: 0.3046 - dense_2_acc_7: 0.3046 - dense_2_acc_8: 0.3046 - val_loss: 1.6951 - val_dense_2_loss: 1.2660 - val_dense_2_acc: 0.9450 - val_dense_2_acc_1: 0.9450 - val_dense_2_acc_2: 0.9450 - val_dense_2_acc_3: 0.9336 - val_dense_2_acc_4: 0.9336 - val_dense_2_acc_5: 0.9336 - val_dense_2_acc_6: 0.6035 - val_dense_2_acc_7: 0.6035 - val_dense_2_acc_8: 0.6035\n",
      "Epoch 2/60\n",
      "120/120 [==============================] - 16s 129ms/step - loss: 1.2624 - dense_2_loss: 1.0213 - dense_2_acc: 0.9642 - dense_2_acc_1: 0.9642 - dense_2_acc_2: 0.9642 - dense_2_acc_3: 0.9609 - dense_2_acc_4: 0.9609 - dense_2_acc_5: 0.9609 - dense_2_acc_6: 0.6845 - dense_2_acc_7: 0.6845 - dense_2_acc_8: 0.6845 - val_loss: 1.2946 - val_dense_2_loss: 0.9014 - val_dense_2_acc: 0.9441 - val_dense_2_acc_1: 0.9441 - val_dense_2_acc_2: 0.9441 - val_dense_2_acc_3: 0.9427 - val_dense_2_acc_4: 0.9427 - val_dense_2_acc_5: 0.9427 - val_dense_2_acc_6: 0.7271 - val_dense_2_acc_7: 0.7271 - val_dense_2_acc_8: 0.7271\n",
      "Epoch 3/60\n",
      "120/120 [==============================] - 15s 127ms/step - loss: 0.8928 - dense_2_loss: 0.7392 - dense_2_acc: 0.9759 - dense_2_acc_1: 0.9759 - dense_2_acc_2: 0.9759 - dense_2_acc_3: 0.9764 - dense_2_acc_4: 0.9764 - dense_2_acc_5: 0.9764 - dense_2_acc_6: 0.7787 - dense_2_acc_7: 0.7787 - dense_2_acc_8: 0.7787 - val_loss: 1.2178 - val_dense_2_loss: 0.8478 - val_dense_2_acc: 0.9600 - val_dense_2_acc_1: 0.9600 - val_dense_2_acc_2: 0.9600 - val_dense_2_acc_3: 0.9422 - val_dense_2_acc_4: 0.9422 - val_dense_2_acc_5: 0.9422 - val_dense_2_acc_6: 0.7667 - val_dense_2_acc_7: 0.7667 - val_dense_2_acc_8: 0.7667\n",
      "Epoch 4/60\n",
      "120/120 [==============================] - 15s 129ms/step - loss: 0.7140 - dense_2_loss: 0.5975 - dense_2_acc: 0.9815 - dense_2_acc_1: 0.9815 - dense_2_acc_2: 0.9815 - dense_2_acc_3: 0.9838 - dense_2_acc_4: 0.9838 - dense_2_acc_5: 0.9838 - dense_2_acc_6: 0.8224 - dense_2_acc_7: 0.8224 - dense_2_acc_8: 0.8224 - val_loss: 1.1314 - val_dense_2_loss: 0.6880 - val_dense_2_acc: 0.9650 - val_dense_2_acc_1: 0.9650 - val_dense_2_acc_2: 0.9650 - val_dense_2_acc_3: 0.9354 - val_dense_2_acc_4: 0.9354 - val_dense_2_acc_5: 0.9354 - val_dense_2_acc_6: 0.7999 - val_dense_2_acc_7: 0.7999 - val_dense_2_acc_8: 0.7999\n",
      "Epoch 5/60\n",
      "120/120 [==============================] - 15s 128ms/step - loss: 0.5826 - dense_2_loss: 0.4979 - dense_2_acc: 0.9868 - dense_2_acc_1: 0.9868 - dense_2_acc_2: 0.9868 - dense_2_acc_3: 0.9854 - dense_2_acc_4: 0.9854 - dense_2_acc_5: 0.9854 - dense_2_acc_6: 0.8508 - dense_2_acc_7: 0.8508 - dense_2_acc_8: 0.8508 - val_loss: 1.0100 - val_dense_2_loss: 0.6985 - val_dense_2_acc: 0.9709 - val_dense_2_acc_1: 0.9709 - val_dense_2_acc_2: 0.9709 - val_dense_2_acc_3: 0.9568 - val_dense_2_acc_4: 0.9568 - val_dense_2_acc_5: 0.9568 - val_dense_2_acc_6: 0.7963 - val_dense_2_acc_7: 0.7963 - val_dense_2_acc_8: 0.7963\n",
      "Epoch 6/60\n",
      "120/120 [==============================] - 15s 129ms/step - loss: 0.4912 - dense_2_loss: 0.4296 - dense_2_acc: 0.9904 - dense_2_acc_1: 0.9904 - dense_2_acc_2: 0.9904 - dense_2_acc_3: 0.9911 - dense_2_acc_4: 0.9911 - dense_2_acc_5: 0.9911 - dense_2_acc_6: 0.8702 - dense_2_acc_7: 0.8702 - dense_2_acc_8: 0.8702 - val_loss: 0.9493 - val_dense_2_loss: 0.6530 - val_dense_2_acc: 0.9723 - val_dense_2_acc_1: 0.9723 - val_dense_2_acc_2: 0.9723 - val_dense_2_acc_3: 0.9554 - val_dense_2_acc_4: 0.9554 - val_dense_2_acc_5: 0.9554 - val_dense_2_acc_6: 0.8199 - val_dense_2_acc_7: 0.8199 - val_dense_2_acc_8: 0.8199\n",
      "Epoch 7/60\n",
      "120/120 [==============================] - 16s 131ms/step - loss: 0.4094 - dense_2_loss: 0.3631 - dense_2_acc: 0.9922 - dense_2_acc_1: 0.9922 - dense_2_acc_2: 0.9922 - dense_2_acc_3: 0.9917 - dense_2_acc_4: 0.9917 - dense_2_acc_5: 0.9917 - dense_2_acc_6: 0.8875 - dense_2_acc_7: 0.8875 - dense_2_acc_8: 0.8875 - val_loss: 1.1149 - val_dense_2_loss: 0.7713 - val_dense_2_acc: 0.9732 - val_dense_2_acc_1: 0.9732 - val_dense_2_acc_2: 0.9732 - val_dense_2_acc_3: 0.9559 - val_dense_2_acc_4: 0.9559 - val_dense_2_acc_5: 0.9559 - val_dense_2_acc_6: 0.8072 - val_dense_2_acc_7: 0.8072 - val_dense_2_acc_8: 0.8072\n",
      "Epoch 8/60\n",
      "120/120 [==============================] - 16s 130ms/step - loss: 0.3608 - dense_2_loss: 0.3200 - dense_2_acc: 0.9939 - dense_2_acc_1: 0.9939 - dense_2_acc_2: 0.9939 - dense_2_acc_3: 0.9940 - dense_2_acc_4: 0.9940 - dense_2_acc_5: 0.9940 - dense_2_acc_6: 0.9027 - dense_2_acc_7: 0.9027 - dense_2_acc_8: 0.9027 - val_loss: 1.0009 - val_dense_2_loss: 0.6811 - val_dense_2_acc: 0.9800 - val_dense_2_acc_1: 0.9800 - val_dense_2_acc_2: 0.9800 - val_dense_2_acc_3: 0.9582 - val_dense_2_acc_4: 0.9582 - val_dense_2_acc_5: 0.9582 - val_dense_2_acc_6: 0.8222 - val_dense_2_acc_7: 0.8222 - val_dense_2_acc_8: 0.8222\n",
      "Epoch 9/60\n",
      "120/120 [==============================] - 16s 130ms/step - loss: 0.3089 - dense_2_loss: 0.2734 - dense_2_acc: 0.9960 - dense_2_acc_1: 0.9960 - dense_2_acc_2: 0.9960 - dense_2_acc_3: 0.9940 - dense_2_acc_4: 0.9940 - dense_2_acc_5: 0.9940 - dense_2_acc_6: 0.9149 - dense_2_acc_7: 0.9149 - dense_2_acc_8: 0.9149 - val_loss: 1.0059 - val_dense_2_loss: 0.7274 - val_dense_2_acc: 0.9759 - val_dense_2_acc_1: 0.9759 - val_dense_2_acc_2: 0.9759 - val_dense_2_acc_3: 0.9591 - val_dense_2_acc_4: 0.9591 - val_dense_2_acc_5: 0.9591 - val_dense_2_acc_6: 0.8104 - val_dense_2_acc_7: 0.8104 - val_dense_2_acc_8: 0.8104\n",
      "Epoch 10/60\n",
      "120/120 [==============================] - 16s 134ms/step - loss: 0.2432 - dense_2_loss: 0.2167 - dense_2_acc: 0.9958 - dense_2_acc_1: 0.9958 - dense_2_acc_2: 0.9958 - dense_2_acc_3: 0.9960 - dense_2_acc_4: 0.9960 - dense_2_acc_5: 0.9960 - dense_2_acc_6: 0.9355 - dense_2_acc_7: 0.9355 - dense_2_acc_8: 0.9355 - val_loss: 1.2376 - val_dense_2_loss: 0.8746 - val_dense_2_acc: 0.9714 - val_dense_2_acc_1: 0.9714 - val_dense_2_acc_2: 0.9714 - val_dense_2_acc_3: 0.9609 - val_dense_2_acc_4: 0.9609 - val_dense_2_acc_5: 0.9609 - val_dense_2_acc_6: 0.8113 - val_dense_2_acc_7: 0.8113 - val_dense_2_acc_8: 0.8113\n",
      "Epoch 11/60\n",
      "120/120 [==============================] - 16s 131ms/step - loss: 0.2068 - dense_2_loss: 0.1848 - dense_2_acc: 0.9961 - dense_2_acc_1: 0.9961 - dense_2_acc_2: 0.9961 - dense_2_acc_3: 0.9958 - dense_2_acc_4: 0.9958 - dense_2_acc_5: 0.9958 - dense_2_acc_6: 0.9396 - dense_2_acc_7: 0.9396 - dense_2_acc_8: 0.9396 - val_loss: 1.3885 - val_dense_2_loss: 0.8493 - val_dense_2_acc: 0.9569 - val_dense_2_acc_1: 0.9569 - val_dense_2_acc_2: 0.9569 - val_dense_2_acc_3: 0.9532 - val_dense_2_acc_4: 0.9532 - val_dense_2_acc_5: 0.9532 - val_dense_2_acc_6: 0.8244 - val_dense_2_acc_7: 0.8244 - val_dense_2_acc_8: 0.8244\n",
      "Epoch 12/60\n",
      "120/120 [==============================] - 16s 132ms/step - loss: 0.1753 - dense_2_loss: 0.1478 - dense_2_acc: 0.9964 - dense_2_acc_1: 0.9964 - dense_2_acc_2: 0.9964 - dense_2_acc_3: 0.9954 - dense_2_acc_4: 0.9954 - dense_2_acc_5: 0.9954 - dense_2_acc_6: 0.9510 - dense_2_acc_7: 0.9510 - dense_2_acc_8: 0.9510 - val_loss: 1.1989 - val_dense_2_loss: 0.9080 - val_dense_2_acc: 0.9741 - val_dense_2_acc_1: 0.9741 - val_dense_2_acc_2: 0.9741 - val_dense_2_acc_3: 0.9663 - val_dense_2_acc_4: 0.9663 - val_dense_2_acc_5: 0.9663 - val_dense_2_acc_6: 0.8245 - val_dense_2_acc_7: 0.8245 - val_dense_2_acc_8: 0.8245\n",
      "Epoch 13/60\n",
      "120/120 [==============================] - 15s 128ms/step - loss: 0.1378 - dense_2_loss: 0.1212 - dense_2_acc: 0.9973 - dense_2_acc_1: 0.9973 - dense_2_acc_2: 0.9973 - dense_2_acc_3: 0.9977 - dense_2_acc_4: 0.9977 - dense_2_acc_5: 0.9977 - dense_2_acc_6: 0.9606 - dense_2_acc_7: 0.9606 - dense_2_acc_8: 0.9606 - val_loss: 1.2707 - val_dense_2_loss: 0.9626 - val_dense_2_acc: 0.9759 - val_dense_2_acc_1: 0.9759 - val_dense_2_acc_2: 0.9759 - val_dense_2_acc_3: 0.9645 - val_dense_2_acc_4: 0.9645 - val_dense_2_acc_5: 0.9645 - val_dense_2_acc_6: 0.8199 - val_dense_2_acc_7: 0.8199 - val_dense_2_acc_8: 0.8199\n"
     ]
    },
    {
     "name": "stdout",
     "output_type": "stream",
     "text": [
      "Epoch 14/60\n",
      "120/120 [==============================] - 15s 129ms/step - loss: 0.1212 - dense_2_loss: 0.1034 - dense_2_acc: 0.9969 - dense_2_acc_1: 0.9969 - dense_2_acc_2: 0.9969 - dense_2_acc_3: 0.9980 - dense_2_acc_4: 0.9980 - dense_2_acc_5: 0.9980 - dense_2_acc_6: 0.9678 - dense_2_acc_7: 0.9678 - dense_2_acc_8: 0.9678 - val_loss: 1.4263 - val_dense_2_loss: 1.0672 - val_dense_2_acc: 0.9741 - val_dense_2_acc_1: 0.9741 - val_dense_2_acc_2: 0.9741 - val_dense_2_acc_3: 0.9613 - val_dense_2_acc_4: 0.9613 - val_dense_2_acc_5: 0.9613 - val_dense_2_acc_6: 0.8104 - val_dense_2_acc_7: 0.8104 - val_dense_2_acc_8: 0.8104\n",
      "Epoch 15/60\n",
      "120/120 [==============================] - 15s 127ms/step - loss: 0.1135 - dense_2_loss: 0.0924 - dense_2_acc: 0.9979 - dense_2_acc_1: 0.9979 - dense_2_acc_2: 0.9979 - dense_2_acc_3: 0.9966 - dense_2_acc_4: 0.9966 - dense_2_acc_5: 0.9966 - dense_2_acc_6: 0.9721 - dense_2_acc_7: 0.9721 - dense_2_acc_8: 0.9721 - val_loss: 1.5784 - val_dense_2_loss: 1.2057 - val_dense_2_acc: 0.9732 - val_dense_2_acc_1: 0.9732 - val_dense_2_acc_2: 0.9732 - val_dense_2_acc_3: 0.9609 - val_dense_2_acc_4: 0.9609 - val_dense_2_acc_5: 0.9609 - val_dense_2_acc_6: 0.8186 - val_dense_2_acc_7: 0.8186 - val_dense_2_acc_8: 0.8186\n",
      "Epoch 16/60\n",
      "120/120 [==============================] - 16s 130ms/step - loss: 0.0849 - dense_2_loss: 0.0720 - dense_2_acc: 0.9980 - dense_2_acc_1: 0.9980 - dense_2_acc_2: 0.9980 - dense_2_acc_3: 0.9984 - dense_2_acc_4: 0.9984 - dense_2_acc_5: 0.9984 - dense_2_acc_6: 0.9750 - dense_2_acc_7: 0.9750 - dense_2_acc_8: 0.9750 - val_loss: 1.4122 - val_dense_2_loss: 1.0287 - val_dense_2_acc: 0.9786 - val_dense_2_acc_1: 0.9786 - val_dense_2_acc_2: 0.9786 - val_dense_2_acc_3: 0.9645 - val_dense_2_acc_4: 0.9645 - val_dense_2_acc_5: 0.9645 - val_dense_2_acc_6: 0.8349 - val_dense_2_acc_7: 0.8349 - val_dense_2_acc_8: 0.8349\n",
      "Epoch 17/60\n",
      "120/120 [==============================] - 15s 129ms/step - loss: 0.0726 - dense_2_loss: 0.0585 - dense_2_acc: 0.9977 - dense_2_acc_1: 0.9977 - dense_2_acc_2: 0.9977 - dense_2_acc_3: 0.9984 - dense_2_acc_4: 0.9984 - dense_2_acc_5: 0.9984 - dense_2_acc_6: 0.9804 - dense_2_acc_7: 0.9804 - dense_2_acc_8: 0.9804 - val_loss: 1.8902 - val_dense_2_loss: 1.3204 - val_dense_2_acc: 0.9695 - val_dense_2_acc_1: 0.9695 - val_dense_2_acc_2: 0.9695 - val_dense_2_acc_3: 0.9513 - val_dense_2_acc_4: 0.9513 - val_dense_2_acc_5: 0.9513 - val_dense_2_acc_6: 0.8181 - val_dense_2_acc_7: 0.8181 - val_dense_2_acc_8: 0.8181\n",
      "Epoch 18/60\n",
      "120/120 [==============================] - 15s 129ms/step - loss: 0.0774 - dense_2_loss: 0.0576 - dense_2_acc: 0.9956 - dense_2_acc_1: 0.9956 - dense_2_acc_2: 0.9956 - dense_2_acc_3: 0.9978 - dense_2_acc_4: 0.9978 - dense_2_acc_5: 0.9978 - dense_2_acc_6: 0.9806 - dense_2_acc_7: 0.9806 - dense_2_acc_8: 0.9806 - val_loss: 1.5415 - val_dense_2_loss: 1.1964 - val_dense_2_acc: 0.9768 - val_dense_2_acc_1: 0.9768 - val_dense_2_acc_2: 0.9768 - val_dense_2_acc_3: 0.9641 - val_dense_2_acc_4: 0.9641 - val_dense_2_acc_5: 0.9641 - val_dense_2_acc_6: 0.8108 - val_dense_2_acc_7: 0.8108 - val_dense_2_acc_8: 0.8108\n",
      "Epoch 19/60\n",
      "120/120 [==============================] - 16s 129ms/step - loss: 0.0562 - dense_2_loss: 0.0413 - dense_2_acc: 0.9977 - dense_2_acc_1: 0.9977 - dense_2_acc_2: 0.9977 - dense_2_acc_3: 0.9975 - dense_2_acc_4: 0.9975 - dense_2_acc_5: 0.9975 - dense_2_acc_6: 0.9853 - dense_2_acc_7: 0.9853 - dense_2_acc_8: 0.9853 - val_loss: 1.7128 - val_dense_2_loss: 1.2916 - val_dense_2_acc: 0.9700 - val_dense_2_acc_1: 0.9700 - val_dense_2_acc_2: 0.9700 - val_dense_2_acc_3: 0.9636 - val_dense_2_acc_4: 0.9636 - val_dense_2_acc_5: 0.9636 - val_dense_2_acc_6: 0.8195 - val_dense_2_acc_7: 0.8195 - val_dense_2_acc_8: 0.8195\n",
      "Epoch 20/60\n",
      "120/120 [==============================] - 16s 129ms/step - loss: 0.0557 - dense_2_loss: 0.0440 - dense_2_acc: 0.9983 - dense_2_acc_1: 0.9983 - dense_2_acc_2: 0.9983 - dense_2_acc_3: 0.9977 - dense_2_acc_4: 0.9977 - dense_2_acc_5: 0.9977 - dense_2_acc_6: 0.9863 - dense_2_acc_7: 0.9863 - dense_2_acc_8: 0.9863 - val_loss: 1.8254 - val_dense_2_loss: 1.3889 - val_dense_2_acc: 0.9777 - val_dense_2_acc_1: 0.9777 - val_dense_2_acc_2: 0.9777 - val_dense_2_acc_3: 0.9613 - val_dense_2_acc_4: 0.9613 - val_dense_2_acc_5: 0.9613 - val_dense_2_acc_6: 0.8140 - val_dense_2_acc_7: 0.8140 - val_dense_2_acc_8: 0.8140\n",
      "Epoch 21/60\n",
      "120/120 [==============================] - 16s 134ms/step - loss: 0.0545 - dense_2_loss: 0.0417 - dense_2_acc: 0.9979 - dense_2_acc_1: 0.9979 - dense_2_acc_2: 0.9979 - dense_2_acc_3: 0.9980 - dense_2_acc_4: 0.9980 - dense_2_acc_5: 0.9980 - dense_2_acc_6: 0.9868 - dense_2_acc_7: 0.9868 - dense_2_acc_8: 0.9868 - val_loss: 1.9014 - val_dense_2_loss: 1.4428 - val_dense_2_acc: 0.9727 - val_dense_2_acc_1: 0.9727 - val_dense_2_acc_2: 0.9727 - val_dense_2_acc_3: 0.9627 - val_dense_2_acc_4: 0.9627 - val_dense_2_acc_5: 0.9627 - val_dense_2_acc_6: 0.8076 - val_dense_2_acc_7: 0.8076 - val_dense_2_acc_8: 0.8076\n",
      "Epoch 22/60\n",
      "120/120 [==============================] - 15s 129ms/step - loss: 0.0492 - dense_2_loss: 0.0352 - dense_2_acc: 0.9979 - dense_2_acc_1: 0.9979 - dense_2_acc_2: 0.9979 - dense_2_acc_3: 0.9980 - dense_2_acc_4: 0.9980 - dense_2_acc_5: 0.9980 - dense_2_acc_6: 0.9878 - dense_2_acc_7: 0.9878 - dense_2_acc_8: 0.9878 - val_loss: 1.7448 - val_dense_2_loss: 1.3170 - val_dense_2_acc: 0.9773 - val_dense_2_acc_1: 0.9773 - val_dense_2_acc_2: 0.9773 - val_dense_2_acc_3: 0.9601 - val_dense_2_acc_4: 0.9601 - val_dense_2_acc_5: 0.9601 - val_dense_2_acc_6: 0.8248 - val_dense_2_acc_7: 0.8248 - val_dense_2_acc_8: 0.8248\n",
      "Epoch 23/60\n",
      "120/120 [==============================] - 16s 129ms/step - loss: 0.0487 - dense_2_loss: 0.0327 - dense_2_acc: 0.9990 - dense_2_acc_1: 0.9990 - dense_2_acc_2: 0.9990 - dense_2_acc_3: 0.9967 - dense_2_acc_4: 0.9967 - dense_2_acc_5: 0.9967 - dense_2_acc_6: 0.9902 - dense_2_acc_7: 0.9902 - dense_2_acc_8: 0.9902 - val_loss: 1.8869 - val_dense_2_loss: 1.4636 - val_dense_2_acc: 0.9764 - val_dense_2_acc_1: 0.9764 - val_dense_2_acc_2: 0.9764 - val_dense_2_acc_3: 0.9600 - val_dense_2_acc_4: 0.9600 - val_dense_2_acc_5: 0.9600 - val_dense_2_acc_6: 0.8276 - val_dense_2_acc_7: 0.8276 - val_dense_2_acc_8: 0.8276\n",
      "Epoch 24/60\n",
      "120/120 [==============================] - 15s 128ms/step - loss: 0.0451 - dense_2_loss: 0.0386 - dense_2_acc: 0.9988 - dense_2_acc_1: 0.9988 - dense_2_acc_2: 0.9988 - dense_2_acc_3: 0.9986 - dense_2_acc_4: 0.9986 - dense_2_acc_5: 0.9986 - dense_2_acc_6: 0.9879 - dense_2_acc_7: 0.9879 - dense_2_acc_8: 0.9879 - val_loss: 1.8853 - val_dense_2_loss: 1.3430 - val_dense_2_acc: 0.9709 - val_dense_2_acc_1: 0.9709 - val_dense_2_acc_2: 0.9709 - val_dense_2_acc_3: 0.9627 - val_dense_2_acc_4: 0.9627 - val_dense_2_acc_5: 0.9627 - val_dense_2_acc_6: 0.8236 - val_dense_2_acc_7: 0.8236 - val_dense_2_acc_8: 0.8236\n",
      "Epoch 25/60\n",
      "120/120 [==============================] - 15s 127ms/step - loss: 0.0360 - dense_2_loss: 0.0267 - dense_2_acc: 0.9990 - dense_2_acc_1: 0.9990 - dense_2_acc_2: 0.9990 - dense_2_acc_3: 0.9986 - dense_2_acc_4: 0.9986 - dense_2_acc_5: 0.9986 - dense_2_acc_6: 0.9909 - dense_2_acc_7: 0.9909 - dense_2_acc_8: 0.9909 - val_loss: 1.9673 - val_dense_2_loss: 1.4658 - val_dense_2_acc: 0.9754 - val_dense_2_acc_1: 0.9754 - val_dense_2_acc_2: 0.9754 - val_dense_2_acc_3: 0.9618 - val_dense_2_acc_4: 0.9618 - val_dense_2_acc_5: 0.9618 - val_dense_2_acc_6: 0.8222 - val_dense_2_acc_7: 0.8222 - val_dense_2_acc_8: 0.8222\n",
      "Epoch 26/60\n",
      "120/120 [==============================] - 15s 128ms/step - loss: 0.0462 - dense_2_loss: 0.0300 - dense_2_acc: 0.9980 - dense_2_acc_1: 0.9980 - dense_2_acc_2: 0.9980 - dense_2_acc_3: 0.9987 - dense_2_acc_4: 0.9987 - dense_2_acc_5: 0.9987 - dense_2_acc_6: 0.9914 - dense_2_acc_7: 0.9914 - dense_2_acc_8: 0.9914 - val_loss: 2.2961 - val_dense_2_loss: 1.6813 - val_dense_2_acc: 0.9673 - val_dense_2_acc_1: 0.9673 - val_dense_2_acc_2: 0.9673 - val_dense_2_acc_3: 0.9559 - val_dense_2_acc_4: 0.9559 - val_dense_2_acc_5: 0.9559 - val_dense_2_acc_6: 0.8113 - val_dense_2_acc_7: 0.8113 - val_dense_2_acc_8: 0.8113\n",
      "Epoch 27/60\n",
      "120/120 [==============================] - 15s 128ms/step - loss: 0.0397 - dense_2_loss: 0.0302 - dense_2_acc: 0.9986 - dense_2_acc_1: 0.9986 - dense_2_acc_2: 0.9986 - dense_2_acc_3: 0.9997 - dense_2_acc_4: 0.9997 - dense_2_acc_5: 0.9997 - dense_2_acc_6: 0.9913 - dense_2_acc_7: 0.9913 - dense_2_acc_8: 0.9913 - val_loss: 1.9594 - val_dense_2_loss: 1.3674 - val_dense_2_acc: 0.9727 - val_dense_2_acc_1: 0.9727 - val_dense_2_acc_2: 0.9727 - val_dense_2_acc_3: 0.9609 - val_dense_2_acc_4: 0.9609 - val_dense_2_acc_5: 0.9609 - val_dense_2_acc_6: 0.8427 - val_dense_2_acc_7: 0.8427 - val_dense_2_acc_8: 0.8427\n",
      "Epoch 28/60\n",
      "120/120 [==============================] - 15s 127ms/step - loss: 0.0354 - dense_2_loss: 0.0222 - dense_2_acc: 0.9988 - dense_2_acc_1: 0.9988 - dense_2_acc_2: 0.9988 - dense_2_acc_3: 0.9988 - dense_2_acc_4: 0.9988 - dense_2_acc_5: 0.9988 - dense_2_acc_6: 0.9937 - dense_2_acc_7: 0.9937 - dense_2_acc_8: 0.9937 - val_loss: 2.1861 - val_dense_2_loss: 1.6872 - val_dense_2_acc: 0.9795 - val_dense_2_acc_1: 0.9795 - val_dense_2_acc_2: 0.9795 - val_dense_2_acc_3: 0.9650 - val_dense_2_acc_4: 0.9650 - val_dense_2_acc_5: 0.9650 - val_dense_2_acc_6: 0.8040 - val_dense_2_acc_7: 0.8040 - val_dense_2_acc_8: 0.8040\n",
      "Epoch 29/60\n",
      "120/120 [==============================] - 15s 127ms/step - loss: 0.0451 - dense_2_loss: 0.0255 - dense_2_acc: 0.9975 - dense_2_acc_1: 0.9975 - dense_2_acc_2: 0.9975 - dense_2_acc_3: 0.9971 - dense_2_acc_4: 0.9971 - dense_2_acc_5: 0.9971 - dense_2_acc_6: 0.9924 - dense_2_acc_7: 0.9924 - dense_2_acc_8: 0.9924 - val_loss: 1.9442 - val_dense_2_loss: 1.4487 - val_dense_2_acc: 0.9691 - val_dense_2_acc_1: 0.9691 - val_dense_2_acc_2: 0.9691 - val_dense_2_acc_3: 0.9600 - val_dense_2_acc_4: 0.9600 - val_dense_2_acc_5: 0.9600 - val_dense_2_acc_6: 0.8236 - val_dense_2_acc_7: 0.8236 - val_dense_2_acc_8: 0.8236\n",
      "Epoch 30/60\n",
      "120/120 [==============================] - 16s 133ms/step - loss: 0.0491 - dense_2_loss: 0.0392 - dense_2_acc: 0.9992 - dense_2_acc_1: 0.9992 - dense_2_acc_2: 0.9992 - dense_2_acc_3: 0.9990 - dense_2_acc_4: 0.9990 - dense_2_acc_5: 0.9990 - dense_2_acc_6: 0.9918 - dense_2_acc_7: 0.9918 - dense_2_acc_8: 0.9918 - val_loss: 2.0553 - val_dense_2_loss: 1.5081 - val_dense_2_acc: 0.9786 - val_dense_2_acc_1: 0.9786 - val_dense_2_acc_2: 0.9786 - val_dense_2_acc_3: 0.9554 - val_dense_2_acc_4: 0.9554 - val_dense_2_acc_5: 0.9554 - val_dense_2_acc_6: 0.8154 - val_dense_2_acc_7: 0.8154 - val_dense_2_acc_8: 0.8154\n",
      "Epoch 31/60\n",
      "120/120 [==============================] - 16s 130ms/step - loss: 0.0309 - dense_2_loss: 0.0220 - dense_2_acc: 0.9988 - dense_2_acc_1: 0.9988 - dense_2_acc_2: 0.9988 - dense_2_acc_3: 0.9987 - dense_2_acc_4: 0.9987 - dense_2_acc_5: 0.9987 - dense_2_acc_6: 0.9939 - dense_2_acc_7: 0.9939 - dense_2_acc_8: 0.9939 - val_loss: 2.2016 - val_dense_2_loss: 1.7280 - val_dense_2_acc: 0.9768 - val_dense_2_acc_1: 0.9768 - val_dense_2_acc_2: 0.9768 - val_dense_2_acc_3: 0.9641 - val_dense_2_acc_4: 0.9641 - val_dense_2_acc_5: 0.9641 - val_dense_2_acc_6: 0.8063 - val_dense_2_acc_7: 0.8063 - val_dense_2_acc_8: 0.8063\n",
      "Epoch 32/60\n",
      "120/120 [==============================] - 16s 130ms/step - loss: 0.0340 - dense_2_loss: 0.0274 - dense_2_acc: 1.0000 - dense_2_acc_1: 1.0000 - dense_2_acc_2: 1.0000 - dense_2_acc_3: 0.9992 - dense_2_acc_4: 0.9992 - dense_2_acc_5: 0.9992 - dense_2_acc_6: 0.9905 - dense_2_acc_7: 0.9905 - dense_2_acc_8: 0.9905 - val_loss: 2.1722 - val_dense_2_loss: 1.5787 - val_dense_2_acc: 0.9764 - val_dense_2_acc_1: 0.9764 - val_dense_2_acc_2: 0.9764 - val_dense_2_acc_3: 0.9606 - val_dense_2_acc_4: 0.9606 - val_dense_2_acc_5: 0.9606 - val_dense_2_acc_6: 0.8170 - val_dense_2_acc_7: 0.8170 - val_dense_2_acc_8: 0.8170\n",
      "Epoch 33/60\n",
      "120/120 [==============================] - 15s 128ms/step - loss: 0.0294 - dense_2_loss: 0.0210 - dense_2_acc: 0.9993 - dense_2_acc_1: 0.9993 - dense_2_acc_2: 0.9993 - dense_2_acc_3: 0.9988 - dense_2_acc_4: 0.9988 - dense_2_acc_5: 0.9988 - dense_2_acc_6: 0.9933 - dense_2_acc_7: 0.9933 - dense_2_acc_8: 0.9933 - val_loss: 2.2560 - val_dense_2_loss: 1.6527 - val_dense_2_acc: 0.9759 - val_dense_2_acc_1: 0.9759 - val_dense_2_acc_2: 0.9759 - val_dense_2_acc_3: 0.9577 - val_dense_2_acc_4: 0.9577 - val_dense_2_acc_5: 0.9577 - val_dense_2_acc_6: 0.8167 - val_dense_2_acc_7: 0.8167 - val_dense_2_acc_8: 0.8167\n",
      "Epoch 34/60\n",
      "120/120 [==============================] - 16s 131ms/step - loss: 0.0330 - dense_2_loss: 0.0225 - dense_2_acc: 0.9986 - dense_2_acc_1: 0.9986 - dense_2_acc_2: 0.9986 - dense_2_acc_3: 0.9988 - dense_2_acc_4: 0.9988 - dense_2_acc_5: 0.9988 - dense_2_acc_6: 0.9939 - dense_2_acc_7: 0.9939 - dense_2_acc_8: 0.9939 - val_loss: 2.1014 - val_dense_2_loss: 1.6261 - val_dense_2_acc: 0.9809 - val_dense_2_acc_1: 0.9809 - val_dense_2_acc_2: 0.9809 - val_dense_2_acc_3: 0.9627 - val_dense_2_acc_4: 0.9627 - val_dense_2_acc_5: 0.9627 - val_dense_2_acc_6: 0.8258 - val_dense_2_acc_7: 0.8258 - val_dense_2_acc_8: 0.8258\n",
      "Epoch 35/60\n",
      "120/120 [==============================] - 15s 129ms/step - loss: 0.0395 - dense_2_loss: 0.0215 - dense_2_acc: 0.9983 - dense_2_acc_1: 0.9983 - dense_2_acc_2: 0.9983 - dense_2_acc_3: 0.9984 - dense_2_acc_4: 0.9984 - dense_2_acc_5: 0.9984 - dense_2_acc_6: 0.9944 - dense_2_acc_7: 0.9944 - dense_2_acc_8: 0.9944 - val_loss: 2.4027 - val_dense_2_loss: 1.7911 - val_dense_2_acc: 0.9714 - val_dense_2_acc_1: 0.9714 - val_dense_2_acc_2: 0.9714 - val_dense_2_acc_3: 0.9600 - val_dense_2_acc_4: 0.9600 - val_dense_2_acc_5: 0.9600 - val_dense_2_acc_6: 0.8054 - val_dense_2_acc_7: 0.8054 - val_dense_2_acc_8: 0.8054\n",
      "Epoch 36/60\n",
      "120/120 [==============================] - 16s 129ms/step - loss: 0.0358 - dense_2_loss: 0.0230 - dense_2_acc: 0.9988 - dense_2_acc_1: 0.9988 - dense_2_acc_2: 0.9988 - dense_2_acc_3: 0.9980 - dense_2_acc_4: 0.9980 - dense_2_acc_5: 0.9980 - dense_2_acc_6: 0.9919 - dense_2_acc_7: 0.9919 - dense_2_acc_8: 0.9919 - val_loss: 2.4371 - val_dense_2_loss: 1.8157 - val_dense_2_acc: 0.9695 - val_dense_2_acc_1: 0.9695 - val_dense_2_acc_2: 0.9695 - val_dense_2_acc_3: 0.9600 - val_dense_2_acc_4: 0.9600 - val_dense_2_acc_5: 0.9600 - val_dense_2_acc_6: 0.8045 - val_dense_2_acc_7: 0.8045 - val_dense_2_acc_8: 0.8045\n",
      "Epoch 37/60\n",
      "120/120 [==============================] - 15s 128ms/step - loss: 0.0468 - dense_2_loss: 0.0311 - dense_2_acc: 0.9980 - dense_2_acc_1: 0.9980 - dense_2_acc_2: 0.9980 - dense_2_acc_3: 0.9990 - dense_2_acc_4: 0.9990 - dense_2_acc_5: 0.9990 - dense_2_acc_6: 0.9924 - dense_2_acc_7: 0.9924 - dense_2_acc_8: 0.9924 - val_loss: 1.9999 - val_dense_2_loss: 1.4476 - val_dense_2_acc: 0.9654 - val_dense_2_acc_1: 0.9654 - val_dense_2_acc_2: 0.9654 - val_dense_2_acc_3: 0.9673 - val_dense_2_acc_4: 0.9673 - val_dense_2_acc_5: 0.9673 - val_dense_2_acc_6: 0.8331 - val_dense_2_acc_7: 0.8331 - val_dense_2_acc_8: 0.8331\n",
      "Epoch 38/60\n",
      "120/120 [==============================] - 15s 128ms/step - loss: 0.0298 - dense_2_loss: 0.0225 - dense_2_acc: 0.9992 - dense_2_acc_1: 0.9992 - dense_2_acc_2: 0.9992 - dense_2_acc_3: 0.9990 - dense_2_acc_4: 0.9990 - dense_2_acc_5: 0.9990 - dense_2_acc_6: 0.9933 - dense_2_acc_7: 0.9933 - dense_2_acc_8: 0.9933 - val_loss: 2.2539 - val_dense_2_loss: 1.7649 - val_dense_2_acc: 0.9795 - val_dense_2_acc_1: 0.9795 - val_dense_2_acc_2: 0.9795 - val_dense_2_acc_3: 0.9623 - val_dense_2_acc_4: 0.9623 - val_dense_2_acc_5: 0.9623 - val_dense_2_acc_6: 0.8058 - val_dense_2_acc_7: 0.8058 - val_dense_2_acc_8: 0.8058\n",
      "Epoch 39/60\n",
      "120/120 [==============================] - 16s 130ms/step - loss: 0.0391 - dense_2_loss: 0.0240 - dense_2_acc: 0.9975 - dense_2_acc_1: 0.9975 - dense_2_acc_2: 0.9975 - dense_2_acc_3: 0.9988 - dense_2_acc_4: 0.9988 - dense_2_acc_5: 0.9988 - dense_2_acc_6: 0.9919 - dense_2_acc_7: 0.9919 - dense_2_acc_8: 0.9919 - val_loss: 2.2528 - val_dense_2_loss: 1.7194 - val_dense_2_acc: 0.9768 - val_dense_2_acc_1: 0.9768 - val_dense_2_acc_2: 0.9768 - val_dense_2_acc_3: 0.9668 - val_dense_2_acc_4: 0.9668 - val_dense_2_acc_5: 0.9668 - val_dense_2_acc_6: 0.8195 - val_dense_2_acc_7: 0.8195 - val_dense_2_acc_8: 0.8195\n",
      "Epoch 40/60\n"
     ]
    },
    {
     "name": "stdout",
     "output_type": "stream",
     "text": [
      "120/120 [==============================] - 16s 129ms/step - loss: 0.0319 - dense_2_loss: 0.0210 - dense_2_acc: 0.9986 - dense_2_acc_1: 0.9986 - dense_2_acc_2: 0.9986 - dense_2_acc_3: 0.9986 - dense_2_acc_4: 0.9986 - dense_2_acc_5: 0.9986 - dense_2_acc_6: 0.9944 - dense_2_acc_7: 0.9944 - dense_2_acc_8: 0.9944 - val_loss: 2.1755 - val_dense_2_loss: 1.6102 - val_dense_2_acc: 0.9723 - val_dense_2_acc_1: 0.9723 - val_dense_2_acc_2: 0.9723 - val_dense_2_acc_3: 0.9641 - val_dense_2_acc_4: 0.9641 - val_dense_2_acc_5: 0.9641 - val_dense_2_acc_6: 0.8236 - val_dense_2_acc_7: 0.8236 - val_dense_2_acc_8: 0.8236\n",
      "Epoch 41/60\n",
      "120/120 [==============================] - 15s 128ms/step - loss: 0.0309 - dense_2_loss: 0.0211 - dense_2_acc: 0.9991 - dense_2_acc_1: 0.9991 - dense_2_acc_2: 0.9991 - dense_2_acc_3: 0.9980 - dense_2_acc_4: 0.9980 - dense_2_acc_5: 0.9980 - dense_2_acc_6: 0.9941 - dense_2_acc_7: 0.9941 - dense_2_acc_8: 0.9941 - val_loss: 2.2679 - val_dense_2_loss: 1.7487 - val_dense_2_acc: 0.9718 - val_dense_2_acc_1: 0.9718 - val_dense_2_acc_2: 0.9718 - val_dense_2_acc_3: 0.9586 - val_dense_2_acc_4: 0.9586 - val_dense_2_acc_5: 0.9586 - val_dense_2_acc_6: 0.8140 - val_dense_2_acc_7: 0.8140 - val_dense_2_acc_8: 0.8140\n",
      "Epoch 42/60\n",
      "120/120 [==============================] - 15s 128ms/step - loss: 0.0246 - dense_2_loss: 0.0197 - dense_2_acc: 0.9995 - dense_2_acc_1: 0.9995 - dense_2_acc_2: 0.9995 - dense_2_acc_3: 0.9993 - dense_2_acc_4: 0.9993 - dense_2_acc_5: 0.9993 - dense_2_acc_6: 0.9949 - dense_2_acc_7: 0.9949 - dense_2_acc_8: 0.9949 - val_loss: 2.2342 - val_dense_2_loss: 1.7242 - val_dense_2_acc: 0.9786 - val_dense_2_acc_1: 0.9786 - val_dense_2_acc_2: 0.9786 - val_dense_2_acc_3: 0.9636 - val_dense_2_acc_4: 0.9636 - val_dense_2_acc_5: 0.9636 - val_dense_2_acc_6: 0.8085 - val_dense_2_acc_7: 0.8085 - val_dense_2_acc_8: 0.8085\n",
      "Epoch 43/60\n",
      "120/120 [==============================] - 16s 130ms/step - loss: 0.0284 - dense_2_loss: 0.0142 - dense_2_acc: 0.9983 - dense_2_acc_1: 0.9983 - dense_2_acc_2: 0.9983 - dense_2_acc_3: 0.9996 - dense_2_acc_4: 0.9996 - dense_2_acc_5: 0.9996 - dense_2_acc_6: 0.9964 - dense_2_acc_7: 0.9964 - dense_2_acc_8: 0.9964 - val_loss: 2.3679 - val_dense_2_loss: 1.7867 - val_dense_2_acc: 0.9750 - val_dense_2_acc_1: 0.9750 - val_dense_2_acc_2: 0.9750 - val_dense_2_acc_3: 0.9662 - val_dense_2_acc_4: 0.9662 - val_dense_2_acc_5: 0.9662 - val_dense_2_acc_6: 0.8188 - val_dense_2_acc_7: 0.8188 - val_dense_2_acc_8: 0.8188\n",
      "Epoch 44/60\n",
      "120/120 [==============================] - 15s 129ms/step - loss: 0.0360 - dense_2_loss: 0.0253 - dense_2_acc: 0.9988 - dense_2_acc_1: 0.9988 - dense_2_acc_2: 0.9988 - dense_2_acc_3: 0.9991 - dense_2_acc_4: 0.9991 - dense_2_acc_5: 0.9991 - dense_2_acc_6: 0.9943 - dense_2_acc_7: 0.9943 - dense_2_acc_8: 0.9943 - val_loss: 2.3912 - val_dense_2_loss: 1.7631 - val_dense_2_acc: 0.9750 - val_dense_2_acc_1: 0.9750 - val_dense_2_acc_2: 0.9750 - val_dense_2_acc_3: 0.9613 - val_dense_2_acc_4: 0.9613 - val_dense_2_acc_5: 0.9613 - val_dense_2_acc_6: 0.8108 - val_dense_2_acc_7: 0.8108 - val_dense_2_acc_8: 0.8108\n",
      "Epoch 45/60\n",
      "120/120 [==============================] - 15s 128ms/step - loss: 0.0327 - dense_2_loss: 0.0207 - dense_2_acc: 0.9988 - dense_2_acc_1: 0.9988 - dense_2_acc_2: 0.9988 - dense_2_acc_3: 0.9982 - dense_2_acc_4: 0.9982 - dense_2_acc_5: 0.9982 - dense_2_acc_6: 0.9944 - dense_2_acc_7: 0.9944 - dense_2_acc_8: 0.9944 - val_loss: 2.2059 - val_dense_2_loss: 1.7064 - val_dense_2_acc: 0.9795 - val_dense_2_acc_1: 0.9795 - val_dense_2_acc_2: 0.9795 - val_dense_2_acc_3: 0.9623 - val_dense_2_acc_4: 0.9623 - val_dense_2_acc_5: 0.9623 - val_dense_2_acc_6: 0.8199 - val_dense_2_acc_7: 0.8199 - val_dense_2_acc_8: 0.8199\n",
      "Epoch 46/60\n",
      "120/120 [==============================] - 15s 127ms/step - loss: 0.0235 - dense_2_loss: 0.0160 - dense_2_acc: 0.9999 - dense_2_acc_1: 0.9999 - dense_2_acc_2: 0.9999 - dense_2_acc_3: 0.9983 - dense_2_acc_4: 0.9983 - dense_2_acc_5: 0.9983 - dense_2_acc_6: 0.9943 - dense_2_acc_7: 0.9943 - dense_2_acc_8: 0.9943 - val_loss: 2.3588 - val_dense_2_loss: 1.7964 - val_dense_2_acc: 0.9709 - val_dense_2_acc_1: 0.9709 - val_dense_2_acc_2: 0.9709 - val_dense_2_acc_3: 0.9663 - val_dense_2_acc_4: 0.9663 - val_dense_2_acc_5: 0.9663 - val_dense_2_acc_6: 0.8045 - val_dense_2_acc_7: 0.8045 - val_dense_2_acc_8: 0.8045\n",
      "Epoch 47/60\n",
      "120/120 [==============================] - 15s 127ms/step - loss: 0.0229 - dense_2_loss: 0.0197 - dense_2_acc: 0.9997 - dense_2_acc_1: 0.9997 - dense_2_acc_2: 0.9997 - dense_2_acc_3: 0.9996 - dense_2_acc_4: 0.9996 - dense_2_acc_5: 0.9996 - dense_2_acc_6: 0.9957 - dense_2_acc_7: 0.9957 - dense_2_acc_8: 0.9957 - val_loss: 2.3812 - val_dense_2_loss: 1.6854 - val_dense_2_acc: 0.9741 - val_dense_2_acc_1: 0.9741 - val_dense_2_acc_2: 0.9741 - val_dense_2_acc_3: 0.9563 - val_dense_2_acc_4: 0.9563 - val_dense_2_acc_5: 0.9563 - val_dense_2_acc_6: 0.8272 - val_dense_2_acc_7: 0.8272 - val_dense_2_acc_8: 0.8272\n",
      "Epoch 48/60\n",
      "120/120 [==============================] - 15s 128ms/step - loss: 0.0267 - dense_2_loss: 0.0161 - dense_2_acc: 0.9993 - dense_2_acc_1: 0.9993 - dense_2_acc_2: 0.9993 - dense_2_acc_3: 0.9992 - dense_2_acc_4: 0.9992 - dense_2_acc_5: 0.9992 - dense_2_acc_6: 0.9954 - dense_2_acc_7: 0.9954 - dense_2_acc_8: 0.9954 - val_loss: 2.3613 - val_dense_2_loss: 1.8227 - val_dense_2_acc: 0.9759 - val_dense_2_acc_1: 0.9759 - val_dense_2_acc_2: 0.9759 - val_dense_2_acc_3: 0.9659 - val_dense_2_acc_4: 0.9659 - val_dense_2_acc_5: 0.9659 - val_dense_2_acc_6: 0.8195 - val_dense_2_acc_7: 0.8195 - val_dense_2_acc_8: 0.8195\n",
      "Epoch 49/60\n",
      "120/120 [==============================] - 15s 128ms/step - loss: 0.0233 - dense_2_loss: 0.0205 - dense_2_acc: 0.9997 - dense_2_acc_1: 0.9997 - dense_2_acc_2: 0.9997 - dense_2_acc_3: 0.9997 - dense_2_acc_4: 0.9997 - dense_2_acc_5: 0.9997 - dense_2_acc_6: 0.9954 - dense_2_acc_7: 0.9954 - dense_2_acc_8: 0.9954 - val_loss: 2.5772 - val_dense_2_loss: 1.9690 - val_dense_2_acc: 0.9764 - val_dense_2_acc_1: 0.9764 - val_dense_2_acc_2: 0.9764 - val_dense_2_acc_3: 0.9618 - val_dense_2_acc_4: 0.9618 - val_dense_2_acc_5: 0.9618 - val_dense_2_acc_6: 0.8176 - val_dense_2_acc_7: 0.8176 - val_dense_2_acc_8: 0.8176\n",
      "Epoch 50/60\n",
      "120/120 [==============================] - 16s 132ms/step - loss: 0.0276 - dense_2_loss: 0.0170 - dense_2_acc: 0.9982 - dense_2_acc_1: 0.9982 - dense_2_acc_2: 0.9982 - dense_2_acc_3: 0.9995 - dense_2_acc_4: 0.9995 - dense_2_acc_5: 0.9995 - dense_2_acc_6: 0.9961 - dense_2_acc_7: 0.9961 - dense_2_acc_8: 0.9961 - val_loss: 2.3713 - val_dense_2_loss: 1.7172 - val_dense_2_acc: 0.9700 - val_dense_2_acc_1: 0.9700 - val_dense_2_acc_2: 0.9700 - val_dense_2_acc_3: 0.9682 - val_dense_2_acc_4: 0.9682 - val_dense_2_acc_5: 0.9682 - val_dense_2_acc_6: 0.8217 - val_dense_2_acc_7: 0.8217 - val_dense_2_acc_8: 0.8217\n",
      "Epoch 51/60\n",
      "120/120 [==============================] - 16s 132ms/step - loss: 0.0287 - dense_2_loss: 0.0207 - dense_2_acc: 0.9992 - dense_2_acc_1: 0.9992 - dense_2_acc_2: 0.9992 - dense_2_acc_3: 0.9991 - dense_2_acc_4: 0.9991 - dense_2_acc_5: 0.9991 - dense_2_acc_6: 0.9952 - dense_2_acc_7: 0.9952 - dense_2_acc_8: 0.9952 - val_loss: 2.4192 - val_dense_2_loss: 1.8119 - val_dense_2_acc: 0.9736 - val_dense_2_acc_1: 0.9736 - val_dense_2_acc_2: 0.9736 - val_dense_2_acc_3: 0.9654 - val_dense_2_acc_4: 0.9654 - val_dense_2_acc_5: 0.9654 - val_dense_2_acc_6: 0.8190 - val_dense_2_acc_7: 0.8190 - val_dense_2_acc_8: 0.8190\n",
      "Epoch 52/60\n",
      "120/120 [==============================] - 16s 133ms/step - loss: 0.0202 - dense_2_loss: 0.0144 - dense_2_acc: 0.9996 - dense_2_acc_1: 0.9996 - dense_2_acc_2: 0.9996 - dense_2_acc_3: 0.9992 - dense_2_acc_4: 0.9992 - dense_2_acc_5: 0.9992 - dense_2_acc_6: 0.9958 - dense_2_acc_7: 0.9958 - dense_2_acc_8: 0.9958 - val_loss: 2.5556 - val_dense_2_loss: 1.9333 - val_dense_2_acc: 0.9764 - val_dense_2_acc_1: 0.9764 - val_dense_2_acc_2: 0.9764 - val_dense_2_acc_3: 0.9650 - val_dense_2_acc_4: 0.9650 - val_dense_2_acc_5: 0.9650 - val_dense_2_acc_6: 0.8204 - val_dense_2_acc_7: 0.8204 - val_dense_2_acc_8: 0.8204\n",
      "Epoch 53/60\n",
      "120/120 [==============================] - 15s 127ms/step - loss: 0.0288 - dense_2_loss: 0.0201 - dense_2_acc: 0.9999 - dense_2_acc_1: 0.9999 - dense_2_acc_2: 0.9999 - dense_2_acc_3: 0.9984 - dense_2_acc_4: 0.9984 - dense_2_acc_5: 0.9984 - dense_2_acc_6: 0.9956 - dense_2_acc_7: 0.9956 - dense_2_acc_8: 0.9956 - val_loss: 2.3239 - val_dense_2_loss: 1.7190 - val_dense_2_acc: 0.9727 - val_dense_2_acc_1: 0.9727 - val_dense_2_acc_2: 0.9727 - val_dense_2_acc_3: 0.9623 - val_dense_2_acc_4: 0.9623 - val_dense_2_acc_5: 0.9623 - val_dense_2_acc_6: 0.8231 - val_dense_2_acc_7: 0.8231 - val_dense_2_acc_8: 0.8231\n",
      "Epoch 54/60\n",
      "120/120 [==============================] - 15s 127ms/step - loss: 0.0218 - dense_2_loss: 0.0154 - dense_2_acc: 0.9996 - dense_2_acc_1: 0.9996 - dense_2_acc_2: 0.9996 - dense_2_acc_3: 0.9990 - dense_2_acc_4: 0.9990 - dense_2_acc_5: 0.9990 - dense_2_acc_6: 0.9962 - dense_2_acc_7: 0.9962 - dense_2_acc_8: 0.9962 - val_loss: 2.4867 - val_dense_2_loss: 1.7930 - val_dense_2_acc: 0.9690 - val_dense_2_acc_1: 0.9690 - val_dense_2_acc_2: 0.9690 - val_dense_2_acc_3: 0.9615 - val_dense_2_acc_4: 0.9615 - val_dense_2_acc_5: 0.9615 - val_dense_2_acc_6: 0.8285 - val_dense_2_acc_7: 0.8285 - val_dense_2_acc_8: 0.8285\n",
      "Epoch 55/60\n",
      "120/120 [==============================] - 15s 127ms/step - loss: 0.0197 - dense_2_loss: 0.0126 - dense_2_acc: 0.9995 - dense_2_acc_1: 0.9995 - dense_2_acc_2: 0.9995 - dense_2_acc_3: 0.9991 - dense_2_acc_4: 0.9991 - dense_2_acc_5: 0.9991 - dense_2_acc_6: 0.9964 - dense_2_acc_7: 0.9964 - dense_2_acc_8: 0.9964 - val_loss: 2.5918 - val_dense_2_loss: 1.9984 - val_dense_2_acc: 0.9768 - val_dense_2_acc_1: 0.9768 - val_dense_2_acc_2: 0.9768 - val_dense_2_acc_3: 0.9604 - val_dense_2_acc_4: 0.9604 - val_dense_2_acc_5: 0.9604 - val_dense_2_acc_6: 0.8045 - val_dense_2_acc_7: 0.8045 - val_dense_2_acc_8: 0.8045\n",
      "Epoch 56/60\n",
      "120/120 [==============================] - 15s 127ms/step - loss: 0.0333 - dense_2_loss: 0.0208 - dense_2_acc: 0.9979 - dense_2_acc_1: 0.9979 - dense_2_acc_2: 0.9979 - dense_2_acc_3: 0.9986 - dense_2_acc_4: 0.9986 - dense_2_acc_5: 0.9986 - dense_2_acc_6: 0.9951 - dense_2_acc_7: 0.9951 - dense_2_acc_8: 0.9951 - val_loss: 2.5502 - val_dense_2_loss: 1.8640 - val_dense_2_acc: 0.9718 - val_dense_2_acc_1: 0.9718 - val_dense_2_acc_2: 0.9718 - val_dense_2_acc_3: 0.9591 - val_dense_2_acc_4: 0.9591 - val_dense_2_acc_5: 0.9591 - val_dense_2_acc_6: 0.8040 - val_dense_2_acc_7: 0.8040 - val_dense_2_acc_8: 0.8040\n",
      "Epoch 57/60\n",
      "120/120 [==============================] - 15s 127ms/step - loss: 0.0177 - dense_2_loss: 0.0151 - dense_2_acc: 1.0000 - dense_2_acc_1: 1.0000 - dense_2_acc_2: 1.0000 - dense_2_acc_3: 0.9993 - dense_2_acc_4: 0.9993 - dense_2_acc_5: 0.9993 - dense_2_acc_6: 0.9967 - dense_2_acc_7: 0.9967 - dense_2_acc_8: 0.9967 - val_loss: 2.5173 - val_dense_2_loss: 1.8335 - val_dense_2_acc: 0.9750 - val_dense_2_acc_1: 0.9750 - val_dense_2_acc_2: 0.9750 - val_dense_2_acc_3: 0.9650 - val_dense_2_acc_4: 0.9650 - val_dense_2_acc_5: 0.9650 - val_dense_2_acc_6: 0.8090 - val_dense_2_acc_7: 0.8090 - val_dense_2_acc_8: 0.8090\n",
      "Epoch 58/60\n",
      "120/120 [==============================] - 15s 128ms/step - loss: 0.0204 - dense_2_loss: 0.0138 - dense_2_acc: 0.9992 - dense_2_acc_1: 0.9992 - dense_2_acc_2: 0.9992 - dense_2_acc_3: 0.9995 - dense_2_acc_4: 0.9995 - dense_2_acc_5: 0.9995 - dense_2_acc_6: 0.9962 - dense_2_acc_7: 0.9962 - dense_2_acc_8: 0.9962 - val_loss: 2.3903 - val_dense_2_loss: 1.6915 - val_dense_2_acc: 0.9686 - val_dense_2_acc_1: 0.9686 - val_dense_2_acc_2: 0.9686 - val_dense_2_acc_3: 0.9600 - val_dense_2_acc_4: 0.9600 - val_dense_2_acc_5: 0.9600 - val_dense_2_acc_6: 0.8267 - val_dense_2_acc_7: 0.8267 - val_dense_2_acc_8: 0.8267\n",
      "Epoch 59/60\n",
      "120/120 [==============================] - 15s 128ms/step - loss: 0.0267 - dense_2_loss: 0.0085 - dense_2_acc: 0.9980 - dense_2_acc_1: 0.9980 - dense_2_acc_2: 0.9980 - dense_2_acc_3: 0.9988 - dense_2_acc_4: 0.9988 - dense_2_acc_5: 0.9988 - dense_2_acc_6: 0.9978 - dense_2_acc_7: 0.9978 - dense_2_acc_8: 0.9978 - val_loss: 2.7444 - val_dense_2_loss: 2.1097 - val_dense_2_acc: 0.9773 - val_dense_2_acc_1: 0.9773 - val_dense_2_acc_2: 0.9773 - val_dense_2_acc_3: 0.9686 - val_dense_2_acc_4: 0.9686 - val_dense_2_acc_5: 0.9686 - val_dense_2_acc_6: 0.8058 - val_dense_2_acc_7: 0.8058 - val_dense_2_acc_8: 0.8058\n",
      "Epoch 60/60\n",
      "120/120 [==============================] - 15s 129ms/step - loss: 0.0323 - dense_2_loss: 0.0240 - dense_2_acc: 0.9996 - dense_2_acc_1: 0.9996 - dense_2_acc_2: 0.9996 - dense_2_acc_3: 0.9990 - dense_2_acc_4: 0.9990 - dense_2_acc_5: 0.9990 - dense_2_acc_6: 0.9954 - dense_2_acc_7: 0.9954 - dense_2_acc_8: 0.9954 - val_loss: 2.6603 - val_dense_2_loss: 1.9757 - val_dense_2_acc: 0.9723 - val_dense_2_acc_1: 0.9723 - val_dense_2_acc_2: 0.9723 - val_dense_2_acc_3: 0.9600 - val_dense_2_acc_4: 0.9600 - val_dense_2_acc_5: 0.9600 - val_dense_2_acc_6: 0.8049 - val_dense_2_acc_7: 0.8049 - val_dense_2_acc_8: 0.8049\n"
     ]
    }
   ],
   "source": [
    "history = model.fit_generator(inputgenerator,\n",
    "                             steps_per_epoch=120,\n",
    "                             epochs=60,\n",
    "                             validation_data=testgenerator,\n",
    "                             validation_steps=35)"
   ]
  },
  {
   "cell_type": "code",
   "execution_count": 15,
   "metadata": {},
   "outputs": [
    {
     "data": {
      "image/png": "[encoded data removed]",
      "text/plain": [
       "<Figure size 432x288 with 1 Axes>"
      ]
     },
     "metadata": {
      "needs_background": "light"
     },
     "output_type": "display_data"
    }
   ],
   "source": [
    "import matplotlib.pyplot as plt\n",
    "\n",
    "history_dict = history.history\n",
    "\n",
    "dense_2_acc = history_dict['dense_2_acc']\n",
    "val_dense_2_acc = history_dict['val_dense_2_acc']\n",
    "\n",
    "epochs = range(1, len(dense_2_acc) + 1)\n",
    "\n",
    "plt.plot(epochs, dense_2_acc, 'bo', label = 'MNIST Training acc')\n",
    "plt.plot(epochs, val_dense_2_acc, 'b', label = 'MNIST Validation acc')\n",
    "plt.title('MNIST Training and validation accuracy')\n",
    "plt.xlabel('Epochs')\n",
    "plt.ylabel('acc')\n",
    "plt.legend()\n",
    "\n",
    "plt.show()"
   ]
  },
  {
   "cell_type": "code",
   "execution_count": 16,
   "metadata": {},
   "outputs": [
    {
     "data": {
      "image/png": "[encoded data removed]",
      "text/plain": [
       "<Figure size 432x288 with 1 Axes>"
      ]
     },
     "metadata": {
      "needs_background": "light"
     },
     "output_type": "display_data"
    }
   ],
   "source": [
    "plt.clf()\n",
    "\n",
    "dense_4_acc = history_dict['dense_2_acc_3']\n",
    "val_dense_4_acc = history_dict['val_dense_2_acc_3']\n",
    "\n",
    "plt.plot(epochs, dense_4_acc, 'bo', label = 'USPS Training acc')\n",
    "plt.plot(epochs, val_dense_4_acc, 'b', label = 'USPS Validation acc')\n",
    "plt.title('USPS Training and validation acc')\n",
    "plt.xlabel('Epochs')\n",
    "plt.ylabel('acc')\n",
    "plt.legend()\n",
    "\n",
    "plt.show()"
   ]
  },
  {
   "cell_type": "code",
   "execution_count": 17,
   "metadata": {
    "scrolled": true
   },
   "outputs": [
    {
     "data": {
      "image/png": "[encoded data removed]",
      "text/plain": [
       "<Figure size 432x288 with 1 Axes>"
      ]
     },
     "metadata": {
      "needs_background": "light"
     },
     "output_type": "display_data"
    }
   ],
   "source": [
    "plt.clf()\n",
    "\n",
    "dense_6_acc = history_dict['dense_2_acc_6']\n",
    "val_dense_6_acc = history_dict['val_dense_2_acc_6']\n",
    "\n",
    "plt.plot(epochs, dense_6_acc, 'bo', label = 'SVHN Training acc')\n",
    "plt.plot(epochs, val_dense_6_acc, 'b', label = 'SVHN Validation acc')\n",
    "plt.title('SVHN Training and validation acc')\n",
    "plt.xlabel('Epochs')\n",
    "plt.ylabel('acc')\n",
    "plt.legend()\n",
    "\n",
    "plt.show()"
   ]
  },
  {
   "cell_type": "code",
   "execution_count": 28,
   "metadata": {},
   "outputs": [
    {
     "data": {
      "text/plain": [
       "5"
      ]
     },
     "execution_count": 28,
     "metadata": {},
     "output_type": "execute_result"
    }
   ],
   "source": [
    "loss = history_dict['val_loss']\n",
    "loss.index(min(loss))"
   ]
  },
  {
   "cell_type": "code",
   "execution_count": 33,
   "metadata": {},
   "outputs": [
    {
     "name": "stdout",
     "output_type": "stream",
     "text": [
      "MNIST Val acc\n",
      "0.9722601182355616\n",
      "\n",
      "USPS Val acc\n",
      "0.9554342885297122\n",
      "\n",
      "SVHN Val acc\n",
      "0.8199181448551349\n"
     ]
    }
   ],
   "source": [
    "print('MNIST Val acc')\n",
    "print(val_dense_2_acc[5])\n",
    "print()\n",
    "\n",
    "print('USPS Val acc')\n",
    "print(val_dense_4_acc[5])\n",
    "print()\n",
    "\n",
    "print('SVHN Val acc')\n",
    "print(val_dense_6_acc[5])"
   ]
  }
 ],
 "metadata": {
  "hide_input": false,
  "kernelspec": {
   "display_name": "Python 3",
   "language": "python",
   "name": "python3"
  },
  "language_info": {
   "codemirror_mode": {
    "name": "ipython",
    "version": 3
   },
   "file_extension": ".py",
   "mimetype": "text/x-python",
   "name": "python",
   "nbconvert_exporter": "python",
   "pygments_lexer": "ipython3",
   "version": "3.6.8"
  },
  "varInspector": {
   "cols": {
    "lenName": 16,
    "lenType": 16,
    "lenVar": 40
   },
   "kernels_config": {
    "python": {
     "delete_cmd_postfix": "",
     "delete_cmd_prefix": "del ",
     "library": "var_list.py",
     "varRefreshCmd": "print(var_dic_list())"
    },
    "r": {
     "delete_cmd_postfix": ") ",
     "delete_cmd_prefix": "rm(",
     "library": "var_list.r",
     "varRefreshCmd": "cat(var_dic_list()) "
    }
   },
   "types_to_exclude": [
    "module",
    "function",
    "builtin_function_or_method",
    "instance",
    "_Feature"
   ],
   "window_display": false
  }
 },
 "nbformat": 4,
 "nbformat_minor": 2
}
