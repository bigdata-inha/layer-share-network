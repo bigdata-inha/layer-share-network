{
 "cells": [
  {
   "cell_type": "code",
   "execution_count": 1,
   "metadata": {},
   "outputs": [],
   "source": [
    "import os\n",
    "\n",
    "train_dir = 'C:/Users/KIMHAKBIN/A_My Python/Datacloud/digits/SVHN_mni/train'\n",
    "test_dir = 'C:/Users/KIMHAKBIN/A_My Python/Datacloud/digits/SVHN_mni/test'"
   ]
  },
  {
   "cell_type": "code",
   "execution_count": 2,
   "metadata": {},
   "outputs": [
    {
     "name": "stderr",
     "output_type": "stream",
     "text": [
      "Using TensorFlow backend.\n"
     ]
    },
    {
     "name": "stdout",
     "output_type": "stream",
     "text": [
      "Found 7291 images belonging to 10 classes.\n",
      "Found 2007 images belonging to 10 classes.\n"
     ]
    }
   ],
   "source": [
    "from keras.preprocessing.image import ImageDataGenerator\n",
    "\n",
    "train_datagen = ImageDataGenerator(rescale = 1./255)\n",
    "test_datagen = ImageDataGenerator(rescale = 1./255)\n",
    "\n",
    "\n",
    "#train_datagen.fit(images, augment=True, seed=seed)\n",
    "\n",
    "train_generator = train_datagen.flow_from_directory(\n",
    "        train_dir,\n",
    "        target_size = (28,28),\n",
    "        batch_size=64,\n",
    "        class_mode='categorical')\n",
    "\n",
    "validation_generator = test_datagen.flow_from_directory(\n",
    "        test_dir,\n",
    "        target_size = (28,28),\n",
    "        batch_size=64,\n",
    "        class_mode='categorical')"
   ]
  },
  {
   "cell_type": "code",
   "execution_count": 3,
   "metadata": {},
   "outputs": [],
   "source": [
    "from keras import layers\n",
    "from keras import models\n",
    "\n",
    "model1 = models.Sequential()\n",
    "model1.add(layers.Conv2D(32, (3, 3), activation='relu', input_shape=(28, 28, 3)))\n",
    "model1.add(layers.Conv2D(32, (3, 3), activation='relu'))\n",
    "model1.add(layers.MaxPooling2D((2,2)))\n",
    "\n",
    "model1.add(layers.Conv2D(64, (3, 3), activation='relu'))\n",
    "model1.add(layers.Conv2D(64, (3, 3), activation='relu'))\n",
    "model1.add(layers.MaxPooling2D((2,2)))\n",
    "\n",
    "model1.add(layers.Flatten())\n",
    "model1.add(layers.Dense(128, activation='relu'))\n",
    "model1.add(layers.Dense(10, activation='softmax'))"
   ]
  },
  {
   "cell_type": "code",
   "execution_count": 4,
   "metadata": {},
   "outputs": [
    {
     "name": "stdout",
     "output_type": "stream",
     "text": [
      "_________________________________________________________________\n",
      "Layer (type)                 Output Shape              Param #   \n",
      "=================================================================\n",
      "conv2d_1 (Conv2D)            (None, 26, 26, 32)        896       \n",
      "_________________________________________________________________\n",
      "conv2d_2 (Conv2D)            (None, 24, 24, 32)        9248      \n",
      "_________________________________________________________________\n",
      "max_pooling2d_1 (MaxPooling2 (None, 12, 12, 32)        0         \n",
      "_________________________________________________________________\n",
      "conv2d_3 (Conv2D)            (None, 10, 10, 64)        18496     \n",
      "_________________________________________________________________\n",
      "conv2d_4 (Conv2D)            (None, 8, 8, 64)          36928     \n",
      "_________________________________________________________________\n",
      "max_pooling2d_2 (MaxPooling2 (None, 4, 4, 64)          0         \n",
      "_________________________________________________________________\n",
      "flatten_1 (Flatten)          (None, 1024)              0         \n",
      "_________________________________________________________________\n",
      "dense_1 (Dense)              (None, 128)               131200    \n",
      "_________________________________________________________________\n",
      "dense_2 (Dense)              (None, 10)                1290      \n",
      "=================================================================\n",
      "Total params: 198,058\n",
      "Trainable params: 198,058\n",
      "Non-trainable params: 0\n",
      "_________________________________________________________________\n"
     ]
    }
   ],
   "source": [
    "model1.summary()"
   ]
  },
  {
   "cell_type": "code",
   "execution_count": 5,
   "metadata": {},
   "outputs": [],
   "source": [
    "model1.compile(optimizer='rmsprop', loss='categorical_crossentropy', metrics=['accuracy'])"
   ]
  },
  {
   "cell_type": "code",
   "execution_count": 6,
   "metadata": {
    "scrolled": false
   },
   "outputs": [
    {
     "name": "stdout",
     "output_type": "stream",
     "text": [
      "Epoch 1/30\n",
      "114/114 [==============================] - 7s 62ms/step - loss: 2.1125 - acc: 0.2477 - val_loss: 1.6041 - val_acc: 0.5007\n",
      "Epoch 2/30\n",
      "114/114 [==============================] - 5s 43ms/step - loss: 1.0869 - acc: 0.6679 - val_loss: 0.8857 - val_acc: 0.7494\n",
      "Epoch 3/30\n",
      "114/114 [==============================] - 5s 43ms/step - loss: 0.7490 - acc: 0.7761 - val_loss: 0.7604 - val_acc: 0.7838\n",
      "Epoch 4/30\n",
      "114/114 [==============================] - 5s 43ms/step - loss: 0.6027 - acc: 0.8247 - val_loss: 0.6804 - val_acc: 0.8097\n",
      "Epoch 5/30\n",
      "114/114 [==============================] - 5s 43ms/step - loss: 0.5063 - acc: 0.8453 - val_loss: 0.7192 - val_acc: 0.8117\n",
      "Epoch 6/30\n",
      "114/114 [==============================] - 5s 43ms/step - loss: 0.4371 - acc: 0.8670 - val_loss: 0.6905 - val_acc: 0.8102\n",
      "Epoch 7/30\n",
      "114/114 [==============================] - 5s 43ms/step - loss: 0.3754 - acc: 0.8863 - val_loss: 0.6594 - val_acc: 0.8122\n",
      "Epoch 8/30\n",
      "114/114 [==============================] - 5s 43ms/step - loss: 0.3235 - acc: 0.8989 - val_loss: 0.6771 - val_acc: 0.8186\n",
      "Epoch 9/30\n",
      "114/114 [==============================] - 5s 43ms/step - loss: 0.2787 - acc: 0.9158 - val_loss: 0.6616 - val_acc: 0.8216\n",
      "Epoch 10/30\n",
      "114/114 [==============================] - 5s 43ms/step - loss: 0.2295 - acc: 0.9310 - val_loss: 0.7071 - val_acc: 0.8366\n",
      "Epoch 11/30\n",
      "114/114 [==============================] - 5s 43ms/step - loss: 0.1927 - acc: 0.9386 - val_loss: 0.7807 - val_acc: 0.8256\n",
      "Epoch 12/30\n",
      "114/114 [==============================] - 5s 43ms/step - loss: 0.1510 - acc: 0.9535 - val_loss: 0.8818 - val_acc: 0.8261\n",
      "Epoch 13/30\n",
      "114/114 [==============================] - 5s 43ms/step - loss: 0.1289 - acc: 0.9575 - val_loss: 0.8524 - val_acc: 0.8201\n",
      "Epoch 14/30\n",
      "114/114 [==============================] - 5s 43ms/step - loss: 0.1025 - acc: 0.9670 - val_loss: 0.8910 - val_acc: 0.8156\n",
      "Epoch 15/30\n",
      "114/114 [==============================] - 5s 43ms/step - loss: 0.0849 - acc: 0.9724 - val_loss: 0.9579 - val_acc: 0.8161\n",
      "Epoch 16/30\n",
      "114/114 [==============================] - 5s 43ms/step - loss: 0.0821 - acc: 0.9742 - val_loss: 1.0942 - val_acc: 0.8097\n",
      "Epoch 17/30\n",
      "114/114 [==============================] - 5s 43ms/step - loss: 0.0606 - acc: 0.9799 - val_loss: 1.1786 - val_acc: 0.8181\n",
      "Epoch 18/30\n",
      "114/114 [==============================] - 5s 43ms/step - loss: 0.0586 - acc: 0.9824 - val_loss: 1.1542 - val_acc: 0.8211\n",
      "Epoch 19/30\n",
      "114/114 [==============================] - 5s 43ms/step - loss: 0.0522 - acc: 0.9848 - val_loss: 1.1848 - val_acc: 0.8146\n",
      "Epoch 20/30\n",
      "114/114 [==============================] - 5s 43ms/step - loss: 0.0418 - acc: 0.9866 - val_loss: 1.2993 - val_acc: 0.8146\n",
      "Epoch 21/30\n",
      "114/114 [==============================] - 5s 43ms/step - loss: 0.0382 - acc: 0.9881 - val_loss: 1.3168 - val_acc: 0.8127\n",
      "Epoch 22/30\n",
      "114/114 [==============================] - 5s 43ms/step - loss: 0.0359 - acc: 0.9886 - val_loss: 1.3379 - val_acc: 0.8291\n",
      "Epoch 23/30\n",
      "114/114 [==============================] - 5s 43ms/step - loss: 0.0322 - acc: 0.9903 - val_loss: 1.4016 - val_acc: 0.8127\n",
      "Epoch 24/30\n",
      "114/114 [==============================] - 5s 43ms/step - loss: 0.0325 - acc: 0.9901 - val_loss: 1.3366 - val_acc: 0.8241\n",
      "Epoch 25/30\n",
      "114/114 [==============================] - 5s 43ms/step - loss: 0.0315 - acc: 0.9897 - val_loss: 1.4046 - val_acc: 0.8181\n",
      "Epoch 26/30\n",
      "114/114 [==============================] - 5s 43ms/step - loss: 0.0288 - acc: 0.9918 - val_loss: 1.3964 - val_acc: 0.8291\n",
      "Epoch 27/30\n",
      "114/114 [==============================] - 5s 43ms/step - loss: 0.0255 - acc: 0.9918 - val_loss: 1.5384 - val_acc: 0.8137\n",
      "Epoch 28/30\n",
      "114/114 [==============================] - 5s 43ms/step - loss: 0.0282 - acc: 0.9916 - val_loss: 1.4776 - val_acc: 0.8171\n",
      "Epoch 29/30\n",
      "114/114 [==============================] - 5s 43ms/step - loss: 0.0246 - acc: 0.9918 - val_loss: 1.4525 - val_acc: 0.8251\n",
      "Epoch 30/30\n",
      "114/114 [==============================] - 5s 43ms/step - loss: 0.0253 - acc: 0.9911 - val_loss: 1.4527 - val_acc: 0.8281\n"
     ]
    }
   ],
   "source": [
    "history = model1.fit_generator(train_generator,\n",
    "                               steps_per_epoch=114, \n",
    "                               epochs=30,\n",
    "                               validation_data=validation_generator,\n",
    "                               validation_steps=32)"
   ]
  },
  {
   "cell_type": "code",
   "execution_count": 8,
   "metadata": {},
   "outputs": [
    {
     "data": {
      "image/png": "[encoded data removed]",
      "text/plain": [
       "<Figure size 432x288 with 1 Axes>"
      ]
     },
     "metadata": {
      "needs_background": "light"
     },
     "output_type": "display_data"
    }
   ],
   "source": [
    "import matplotlib.pyplot as plt\n",
    "\n",
    "history_dict = history.history\n",
    "loss = history_dict['loss']\n",
    "val_loss = history_dict['val_loss']\n",
    "\n",
    "epochs = range(1, len(loss) + 1)\n",
    "\n",
    "plt.plot(epochs, loss, 'bo', label = 'Training loss')\n",
    "plt.plot(epochs, val_loss, 'b', label = 'Validation loss')\n",
    "plt.title('Training and validation loss')\n",
    "plt.xlabel('Epochs')\n",
    "plt.ylabel('Loss')\n",
    "plt.legend()\n",
    "\n",
    "plt.show()"
   ]
  },
  {
   "cell_type": "code",
   "execution_count": 9,
   "metadata": {},
   "outputs": [
    {
     "data": {
      "image/png": "[encoded data removed]",
      "text/plain": [
       "<Figure size 432x288 with 1 Axes>"
      ]
     },
     "metadata": {
      "needs_background": "light"
     },
     "output_type": "display_data"
    }
   ],
   "source": [
    "plt.clf()\n",
    "acc = history_dict['acc']\n",
    "val_acc = history_dict['val_acc']\n",
    "\n",
    "plt.plot(epochs, acc, 'bo', label = 'Training acc')\n",
    "plt.plot(epochs, val_acc, 'b', label = 'Validation acc')\n",
    "plt.title('Training and validation accuracy')\n",
    "plt.xlabel('Epochs')\n",
    "plt.ylabel('acc')\n",
    "plt.legend()\n",
    "\n",
    "plt.show()"
   ]
  },
  {
   "cell_type": "code",
   "execution_count": 10,
   "metadata": {},
   "outputs": [
    {
     "data": {
      "text/plain": [
       "6"
      ]
     },
     "execution_count": 10,
     "metadata": {},
     "output_type": "execute_result"
    }
   ],
   "source": [
    "loss = history_dict['val_loss']\n",
    "loss.index(min(loss))"
   ]
  },
  {
   "cell_type": "code",
   "execution_count": 12,
   "metadata": {},
   "outputs": [
    {
     "name": "stdout",
     "output_type": "stream",
     "text": [
      "SVHN Val acc\n",
      "0.8121574488396542\n"
     ]
    }
   ],
   "source": [
    "print('SVHN Val acc')\n",
    "print(val_acc[6])"
   ]
  }
 ],
 "metadata": {
  "hide_input": false,
  "kernelspec": {
   "display_name": "Python 3",
   "language": "python",
   "name": "python3"
  },
  "language_info": {
   "codemirror_mode": {
    "name": "ipython",
    "version": 3
   },
   "file_extension": ".py",
   "mimetype": "text/x-python",
   "name": "python",
   "nbconvert_exporter": "python",
   "pygments_lexer": "ipython3",
   "version": "3.6.8"
  },
  "varInspector": {
   "cols": {
    "lenName": 16,
    "lenType": 16,
    "lenVar": 40
   },
   "kernels_config": {
    "python": {
     "delete_cmd_postfix": "",
     "delete_cmd_prefix": "del ",
     "library": "var_list.py",
     "varRefreshCmd": "print(var_dic_list())"
    },
    "r": {
     "delete_cmd_postfix": ") ",
     "delete_cmd_prefix": "rm(",
     "library": "var_list.r",
     "varRefreshCmd": "cat(var_dic_list()) "
    }
   },
   "types_to_exclude": [
    "module",
    "function",
    "builtin_function_or_method",
    "instance",
    "_Feature"
   ],
   "window_display": false
  }
 },
 "nbformat": 4,
 "nbformat_minor": 2
}
