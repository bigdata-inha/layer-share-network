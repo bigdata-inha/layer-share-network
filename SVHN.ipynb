{
 "cells": [
  {
   "cell_type": "code",
   "execution_count": 1,
   "metadata": {},
   "outputs": [],
   "source": [
    "import os\n",
    "\n",
    "train_dir = 'C:/Users/KIMHAKBIN/A_My Python/Datacloud/digits/SVHN_mni/train'\n",
    "test_dir = 'C:/Users/KIMHAKBIN/A_My Python/Datacloud/digits/SVHN_mni/test'"
   ]
  },
  {
   "cell_type": "code",
   "execution_count": 2,
   "metadata": {},
   "outputs": [
    {
     "name": "stderr",
     "output_type": "stream",
     "text": [
      "Using TensorFlow backend.\n"
     ]
    },
    {
     "name": "stdout",
     "output_type": "stream",
     "text": [
      "Found 7291 images belonging to 10 classes.\n",
      "Found 2007 images belonging to 10 classes.\n"
     ]
    }
   ],
   "source": [
    "from keras.preprocessing.image import ImageDataGenerator\n",
    "\n",
    "train_datagen = ImageDataGenerator(rescale = 1./255)\n",
    "test_datagen = ImageDataGenerator(rescale = 1./255)\n",
    "\n",
    "\n",
    "#train_datagen.fit(images, augment=True, seed=seed)\n",
    "\n",
    "train_generator = train_datagen.flow_from_directory(\n",
    "        train_dir,\n",
    "        target_size = (28,28),\n",
    "        batch_size=64,\n",
    "        class_mode='categorical')\n",
    "\n",
    "validation_generator = test_datagen.flow_from_directory(\n",
    "        test_dir,\n",
    "        target_size = (28,28),\n",
    "        batch_size=64,\n",
    "        class_mode='categorical')"
   ]
  },
  {
   "cell_type": "code",
   "execution_count": 3,
   "metadata": {},
   "outputs": [],
   "source": [
    "from keras import layers\n",
    "from keras import models\n",
    "\n",
    "model1 = models.Sequential()\n",
    "model1.add(layers.Conv2D(32, (3, 3), activation='relu', input_shape=(28, 28, 3)))\n",
    "model1.add(layers.Conv2D(32, (3, 3), activation='relu'))\n",
    "model1.add(layers.MaxPooling2D((2,2)))\n",
    "\n",
    "model1.add(layers.Conv2D(64, (3, 3), activation='relu'))\n",
    "model1.add(layers.Conv2D(64, (3, 3), activation='relu'))\n",
    "model1.add(layers.MaxPooling2D((2,2)))\n",
    "\n",
    "model1.add(layers.Flatten())\n",
    "model1.add(layers.Dense(128, activation='relu'))\n",
    "model1.add(layers.Dense(10, activation='softmax'))"
   ]
  },
  {
   "cell_type": "code",
   "execution_count": 4,
   "metadata": {},
   "outputs": [
    {
     "name": "stdout",
     "output_type": "stream",
     "text": [
      "_________________________________________________________________\n",
      "Layer (type)                 Output Shape              Param #   \n",
      "=================================================================\n",
      "conv2d_1 (Conv2D)            (None, 26, 26, 32)        896       \n",
      "_________________________________________________________________\n",
      "conv2d_2 (Conv2D)            (None, 24, 24, 32)        9248      \n",
      "_________________________________________________________________\n",
      "max_pooling2d_1 (MaxPooling2 (None, 12, 12, 32)        0         \n",
      "_________________________________________________________________\n",
      "conv2d_3 (Conv2D)            (None, 10, 10, 64)        18496     \n",
      "_________________________________________________________________\n",
      "conv2d_4 (Conv2D)            (None, 8, 8, 64)          36928     \n",
      "_________________________________________________________________\n",
      "max_pooling2d_2 (MaxPooling2 (None, 4, 4, 64)          0         \n",
      "_________________________________________________________________\n",
      "flatten_1 (Flatten)          (None, 1024)              0         \n",
      "_________________________________________________________________\n",
      "dense_1 (Dense)              (None, 128)               131200    \n",
      "_________________________________________________________________\n",
      "dense_2 (Dense)              (None, 10)                1290      \n",
      "=================================================================\n",
      "Total params: 198,058\n",
      "Trainable params: 198,058\n",
      "Non-trainable params: 0\n",
      "_________________________________________________________________\n"
     ]
    }
   ],
   "source": [
    "model1.summary()"
   ]
  },
  {
   "cell_type": "code",
   "execution_count": 5,
   "metadata": {},
   "outputs": [],
   "source": [
    "model1.compile(optimizer='rmsprop', loss='categorical_crossentropy', metrics=['accuracy'])"
   ]
  },
  {
   "cell_type": "code",
   "execution_count": 6,
   "metadata": {
    "scrolled": false
   },
   "outputs": [
    {
     "name": "stdout",
     "output_type": "stream",
     "text": [
      "Epoch 1/30\n",
      "114/114 [==============================] - 11s 93ms/step - loss: 2.2190 - acc: 0.1979 - val_loss: 1.7399 - val_acc: 0.4644\n",
      "Epoch 2/30\n",
      "114/114 [==============================] - 5s 43ms/step - loss: 1.2236 - acc: 0.6173 - val_loss: 0.9314 - val_acc: 0.7250\n",
      "Epoch 3/30\n",
      "114/114 [==============================] - 5s 43ms/step - loss: 0.7713 - acc: 0.7741 - val_loss: 0.9067 - val_acc: 0.7339\n",
      "Epoch 4/30\n",
      "114/114 [==============================] - 5s 43ms/step - loss: 0.6302 - acc: 0.8090 - val_loss: 0.7988 - val_acc: 0.7613\n",
      "Epoch 5/30\n",
      "114/114 [==============================] - 5s 43ms/step - loss: 0.5304 - acc: 0.8394 - val_loss: 0.7953 - val_acc: 0.7683\n",
      "Epoch 6/30\n",
      "114/114 [==============================] - 5s 43ms/step - loss: 0.4514 - acc: 0.8661 - val_loss: 0.8781 - val_acc: 0.7554\n",
      "Epoch 7/30\n",
      "114/114 [==============================] - 5s 43ms/step - loss: 0.3948 - acc: 0.8819 - val_loss: 0.6467 - val_acc: 0.8176\n",
      "Epoch 8/30\n",
      "114/114 [==============================] - 5s 43ms/step - loss: 0.3247 - acc: 0.9025 - val_loss: 0.7346 - val_acc: 0.7947\n",
      "Epoch 9/30\n",
      "114/114 [==============================] - 5s 43ms/step - loss: 0.2815 - acc: 0.9166 - val_loss: 0.7668 - val_acc: 0.7957\n",
      "Epoch 10/30\n",
      "114/114 [==============================] - 5s 43ms/step - loss: 0.2428 - acc: 0.9243 - val_loss: 0.7524 - val_acc: 0.8117\n",
      "Epoch 11/30\n",
      "114/114 [==============================] - 5s 43ms/step - loss: 0.1963 - acc: 0.9383 - val_loss: 0.8212 - val_acc: 0.8191\n",
      "Epoch 12/30\n",
      "114/114 [==============================] - 5s 43ms/step - loss: 0.1626 - acc: 0.9479 - val_loss: 0.8163 - val_acc: 0.8171\n",
      "Epoch 13/30\n",
      "114/114 [==============================] - 5s 43ms/step - loss: 0.1251 - acc: 0.9589 - val_loss: 0.9947 - val_acc: 0.8176\n",
      "Epoch 14/30\n",
      "114/114 [==============================] - 5s 43ms/step - loss: 0.1081 - acc: 0.9652 - val_loss: 1.0143 - val_acc: 0.8047\n",
      "Epoch 15/30\n",
      "114/114 [==============================] - 5s 43ms/step - loss: 0.0871 - acc: 0.9715 - val_loss: 1.0833 - val_acc: 0.8146\n",
      "Epoch 16/30\n",
      "114/114 [==============================] - 5s 43ms/step - loss: 0.0737 - acc: 0.9771 - val_loss: 1.1934 - val_acc: 0.8042\n",
      "Epoch 17/30\n",
      "114/114 [==============================] - 5s 43ms/step - loss: 0.0611 - acc: 0.9812 - val_loss: 1.1631 - val_acc: 0.8251\n",
      "Epoch 18/30\n",
      "114/114 [==============================] - 5s 43ms/step - loss: 0.0589 - acc: 0.9815 - val_loss: 1.1727 - val_acc: 0.8181\n",
      "Epoch 19/30\n",
      "114/114 [==============================] - 5s 43ms/step - loss: 0.0419 - acc: 0.9863 - val_loss: 1.3768 - val_acc: 0.8092\n",
      "Epoch 20/30\n",
      "114/114 [==============================] - 5s 43ms/step - loss: 0.0460 - acc: 0.9862 - val_loss: 1.3172 - val_acc: 0.8246\n",
      "Epoch 21/30\n",
      "114/114 [==============================] - 5s 43ms/step - loss: 0.0396 - acc: 0.9878 - val_loss: 1.3572 - val_acc: 0.8156\n",
      "Epoch 22/30\n",
      "114/114 [==============================] - 5s 43ms/step - loss: 0.0422 - acc: 0.9873 - val_loss: 1.3654 - val_acc: 0.8231\n",
      "Epoch 23/30\n",
      "114/114 [==============================] - 5s 43ms/step - loss: 0.0336 - acc: 0.9910 - val_loss: 1.4575 - val_acc: 0.8171\n",
      "Epoch 24/30\n",
      "114/114 [==============================] - 5s 44ms/step - loss: 0.0363 - acc: 0.9896 - val_loss: 1.4039 - val_acc: 0.8122\n",
      "Epoch 25/30\n",
      "114/114 [==============================] - 5s 44ms/step - loss: 0.0361 - acc: 0.9901 - val_loss: 1.3465 - val_acc: 0.8221\n",
      "Epoch 26/30\n",
      "114/114 [==============================] - 5s 43ms/step - loss: 0.0276 - acc: 0.9907 - val_loss: 1.4346 - val_acc: 0.8032\n",
      "Epoch 27/30\n",
      "114/114 [==============================] - 5s 43ms/step - loss: 0.0283 - acc: 0.9908 - val_loss: 1.4542 - val_acc: 0.8166\n",
      "Epoch 28/30\n",
      "114/114 [==============================] - 5s 44ms/step - loss: 0.0273 - acc: 0.9914 - val_loss: 1.5495 - val_acc: 0.8127\n",
      "Epoch 29/30\n",
      "114/114 [==============================] - 5s 44ms/step - loss: 0.0336 - acc: 0.9904 - val_loss: 1.4713 - val_acc: 0.8146\n",
      "Epoch 30/30\n",
      "114/114 [==============================] - 5s 43ms/step - loss: 0.0275 - acc: 0.9927 - val_loss: 1.6086 - val_acc: 0.8037\n"
     ]
    }
   ],
   "source": [
    "history = model1.fit_generator(train_generator,\n",
    "                               steps_per_epoch=114, \n",
    "                               epochs=30,\n",
    "                               validation_data=validation_generator,\n",
    "                               validation_steps=32)"
   ]
  },
  {
   "cell_type": "code",
   "execution_count": 8,
   "metadata": {},
   "outputs": [
    {
     "data": {
      "image/png": "[encoded data removed]",
      "text/plain": [
       "<Figure size 432x288 with 1 Axes>"
      ]
     },
     "metadata": {
      "needs_background": "light"
     },
     "output_type": "display_data"
    }
   ],
   "source": [
    "import matplotlib.pyplot as plt\n",
    "\n",
    "history_dict = history.history\n",
    "loss = history_dict['loss']\n",
    "val_loss = history_dict['val_loss']\n",
    "\n",
    "epochs = range(1, len(loss) + 1)\n",
    "\n",
    "plt.plot(epochs, loss, 'bo', label = 'Training loss')\n",
    "plt.plot(epochs, val_loss, 'b', label = 'Validation loss')\n",
    "plt.title('Training and validation loss')\n",
    "plt.xlabel('Epochs')\n",
    "plt.ylabel('Loss')\n",
    "plt.legend()\n",
    "\n",
    "plt.show()"
   ]
  },
  {
   "cell_type": "code",
   "execution_count": 9,
   "metadata": {},
   "outputs": [
    {
     "data": {
      "image/png": "[encoded data removed]",
      "text/plain": [
       "<Figure size 432x288 with 1 Axes>"
      ]
     },
     "metadata": {
      "needs_background": "light"
     },
     "output_type": "display_data"
    }
   ],
   "source": [
    "plt.clf()\n",
    "acc = history_dict['acc']\n",
    "val_acc = history_dict['val_acc']\n",
    "\n",
    "plt.plot(epochs, acc, 'bo', label = 'Training acc')\n",
    "plt.plot(epochs, val_acc, 'b', label = 'Validation acc')\n",
    "plt.title('Training and validation accuracy')\n",
    "plt.xlabel('Epochs')\n",
    "plt.ylabel('acc')\n",
    "plt.legend()\n",
    "\n",
    "plt.show()"
   ]
  }
 ],
 "metadata": {
  "hide_input": false,
  "kernelspec": {
   "display_name": "Python 3",
   "language": "python",
   "name": "python3"
  },
  "language_info": {
   "codemirror_mode": {
    "name": "ipython",
    "version": 3
   },
   "file_extension": ".py",
   "mimetype": "text/x-python",
   "name": "python",
   "nbconvert_exporter": "python",
   "pygments_lexer": "ipython3",
   "version": "3.6.8"
  },
  "varInspector": {
   "cols": {
    "lenName": 16,
    "lenType": 16,
    "lenVar": 40
   },
   "kernels_config": {
    "python": {
     "delete_cmd_postfix": "",
     "delete_cmd_prefix": "del ",
     "library": "var_list.py",
     "varRefreshCmd": "print(var_dic_list())"
    },
    "r": {
     "delete_cmd_postfix": ") ",
     "delete_cmd_prefix": "rm(",
     "library": "var_list.r",
     "varRefreshCmd": "cat(var_dic_list()) "
    }
   },
   "types_to_exclude": [
    "module",
    "function",
    "builtin_function_or_method",
    "instance",
    "_Feature"
   ],
   "window_display": false
  }
 },
 "nbformat": 4,
 "nbformat_minor": 2
}
