{
 "cells": [
  {
   "cell_type": "code",
   "execution_count": 1,
   "metadata": {},
   "outputs": [],
   "source": [
    "import os, shutil\n",
    "\n",
    "train_dir = 'C:/Users/KIMHAKBIN/A_My Python/Datacloud/digits/Original/USPS_categorize/train'\n",
    "test_dir = 'C:/Users/KIMHAKBIN/A_My Python/Datacloud/digits/Original/USPS_categorize/test'"
   ]
  },
  {
   "cell_type": "code",
   "execution_count": 2,
   "metadata": {},
   "outputs": [
    {
     "name": "stderr",
     "output_type": "stream",
     "text": [
      "Using TensorFlow backend.\n"
     ]
    },
    {
     "name": "stdout",
     "output_type": "stream",
     "text": [
      "Found 7291 images belonging to 10 classes.\n",
      "Found 2007 images belonging to 10 classes.\n"
     ]
    }
   ],
   "source": [
    "from keras.preprocessing.image import ImageDataGenerator\n",
    "\n",
    "train_datagen = ImageDataGenerator(rescale = 1./255)\n",
    "test_datagen = ImageDataGenerator(rescale = 1./255)\n",
    "\n",
    "\n",
    "#train_datagen.fit(images, augment=True, seed=seed)\n",
    "\n",
    "train_generator = train_datagen.flow_from_directory(\n",
    "        train_dir,\n",
    "        target_size = (28,28),\n",
    "        batch_size=64,\n",
    "        color_mode=\"grayscale\",\n",
    "        class_mode='categorical')\n",
    "\n",
    "validation_generator = test_datagen.flow_from_directory(\n",
    "        test_dir,\n",
    "        target_size = (28,28),\n",
    "        batch_size=64,\n",
    "        color_mode=\"grayscale\",\n",
    "        class_mode='categorical')"
   ]
  },
  {
   "cell_type": "code",
   "execution_count": 3,
   "metadata": {},
   "outputs": [],
   "source": [
    "from keras import layers\n",
    "from keras import models\n",
    "\n",
    "model1 = models.Sequential()\n",
    "model1.add(layers.Conv2D(32, (3, 3), activation='relu', input_shape=(28, 28, 1)))\n",
    "model1.add(layers.Conv2D(32, (3, 3), activation='relu'))\n",
    "model1.add(layers.MaxPooling2D((2,2)))\n",
    "\n",
    "model1.add(layers.Conv2D(64, (3, 3), activation='relu'))\n",
    "model1.add(layers.Conv2D(64, (3, 3), activation='relu'))\n",
    "model1.add(layers.MaxPooling2D((2,2)))\n",
    "\n",
    "model1.add(layers.Flatten())\n",
    "model1.add(layers.Dense(128, activation='relu'))\n",
    "model1.add(layers.Dense(10, activation='softmax'))"
   ]
  },
  {
   "cell_type": "code",
   "execution_count": 4,
   "metadata": {},
   "outputs": [
    {
     "name": "stdout",
     "output_type": "stream",
     "text": [
      "_________________________________________________________________\n",
      "Layer (type)                 Output Shape              Param #   \n",
      "=================================================================\n",
      "conv2d_1 (Conv2D)            (None, 26, 26, 32)        320       \n",
      "_________________________________________________________________\n",
      "conv2d_2 (Conv2D)            (None, 24, 24, 32)        9248      \n",
      "_________________________________________________________________\n",
      "max_pooling2d_1 (MaxPooling2 (None, 12, 12, 32)        0         \n",
      "_________________________________________________________________\n",
      "conv2d_3 (Conv2D)            (None, 10, 10, 64)        18496     \n",
      "_________________________________________________________________\n",
      "conv2d_4 (Conv2D)            (None, 8, 8, 64)          36928     \n",
      "_________________________________________________________________\n",
      "max_pooling2d_2 (MaxPooling2 (None, 4, 4, 64)          0         \n",
      "_________________________________________________________________\n",
      "flatten_1 (Flatten)          (None, 1024)              0         \n",
      "_________________________________________________________________\n",
      "dense_1 (Dense)              (None, 128)               131200    \n",
      "_________________________________________________________________\n",
      "dense_2 (Dense)              (None, 10)                1290      \n",
      "=================================================================\n",
      "Total params: 197,482\n",
      "Trainable params: 197,482\n",
      "Non-trainable params: 0\n",
      "_________________________________________________________________\n"
     ]
    }
   ],
   "source": [
    "model1.summary()"
   ]
  },
  {
   "cell_type": "code",
   "execution_count": 5,
   "metadata": {},
   "outputs": [],
   "source": [
    "model1.compile(optimizer='rmsprop', loss='categorical_crossentropy', metrics=['accuracy'])"
   ]
  },
  {
   "cell_type": "code",
   "execution_count": 6,
   "metadata": {
    "scrolled": false
   },
   "outputs": [
    {
     "name": "stdout",
     "output_type": "stream",
     "text": [
      "Epoch 1/30\n",
      "114/114 [==============================] - 7s 62ms/step - loss: 0.4280 - acc: 0.8610 - val_loss: 0.2472 - val_acc: 0.9387\n",
      "Epoch 2/30\n",
      "114/114 [==============================] - 5s 44ms/step - loss: 0.1080 - acc: 0.9682 - val_loss: 0.2331 - val_acc: 0.9387\n",
      "Epoch 3/30\n",
      "114/114 [==============================] - 5s 43ms/step - loss: 0.0692 - acc: 0.9781 - val_loss: 0.2015 - val_acc: 0.9512\n",
      "Epoch 4/30\n",
      "114/114 [==============================] - 5s 43ms/step - loss: 0.0452 - acc: 0.9846 - val_loss: 0.2499 - val_acc: 0.9547\n",
      "Epoch 5/30\n",
      "114/114 [==============================] - 5s 43ms/step - loss: 0.0334 - acc: 0.9883 - val_loss: 0.2406 - val_acc: 0.9507\n",
      "Epoch 6/30\n",
      "114/114 [==============================] - 5s 42ms/step - loss: 0.0219 - acc: 0.9934 - val_loss: 0.2496 - val_acc: 0.9616\n",
      "Epoch 7/30\n",
      "114/114 [==============================] - 5s 42ms/step - loss: 0.0214 - acc: 0.9937 - val_loss: 0.1966 - val_acc: 0.9646\n",
      "Epoch 8/30\n",
      "114/114 [==============================] - 5s 42ms/step - loss: 0.0133 - acc: 0.9964 - val_loss: 0.2466 - val_acc: 0.9616\n",
      "Epoch 9/30\n",
      "114/114 [==============================] - 5s 43ms/step - loss: 0.0139 - acc: 0.9966 - val_loss: 0.2034 - val_acc: 0.9621\n",
      "Epoch 10/30\n",
      "114/114 [==============================] - 5s 43ms/step - loss: 0.0085 - acc: 0.9975 - val_loss: 0.2596 - val_acc: 0.9586\n",
      "Epoch 11/30\n",
      "114/114 [==============================] - 5s 43ms/step - loss: 0.0125 - acc: 0.9971 - val_loss: 0.2681 - val_acc: 0.9552\n",
      "Epoch 12/30\n",
      "114/114 [==============================] - 5s 42ms/step - loss: 0.0087 - acc: 0.9979 - val_loss: 0.2275 - val_acc: 0.9631\n",
      "Epoch 13/30\n",
      "114/114 [==============================] - 5s 43ms/step - loss: 0.0096 - acc: 0.9974 - val_loss: 0.2328 - val_acc: 0.9616\n",
      "Epoch 14/30\n",
      "114/114 [==============================] - 5s 43ms/step - loss: 0.0063 - acc: 0.9982 - val_loss: 0.2591 - val_acc: 0.9611\n",
      "Epoch 15/30\n",
      "114/114 [==============================] - 5s 42ms/step - loss: 0.0053 - acc: 0.9989 - val_loss: 0.2869 - val_acc: 0.9562\n",
      "Epoch 16/30\n",
      "114/114 [==============================] - 5s 42ms/step - loss: 0.0093 - acc: 0.9977 - val_loss: 0.2718 - val_acc: 0.9626\n",
      "Epoch 17/30\n",
      "114/114 [==============================] - 5s 42ms/step - loss: 0.0028 - acc: 0.9990 - val_loss: 0.3113 - val_acc: 0.9591\n",
      "Epoch 18/30\n",
      "114/114 [==============================] - 5s 42ms/step - loss: 0.0051 - acc: 0.9990 - val_loss: 0.3271 - val_acc: 0.9626\n",
      "Epoch 19/30\n",
      "114/114 [==============================] - 5s 42ms/step - loss: 0.0076 - acc: 0.9989 - val_loss: 0.2851 - val_acc: 0.9611\n",
      "Epoch 20/30\n",
      "114/114 [==============================] - 5s 42ms/step - loss: 0.0057 - acc: 0.9989 - val_loss: 0.2844 - val_acc: 0.9651\n",
      "Epoch 21/30\n",
      "114/114 [==============================] - 5s 42ms/step - loss: 0.0047 - acc: 0.9993 - val_loss: 0.3037 - val_acc: 0.9651\n",
      "Epoch 22/30\n",
      "114/114 [==============================] - 5s 42ms/step - loss: 0.0034 - acc: 0.9988 - val_loss: 0.3355 - val_acc: 0.9567\n",
      "Epoch 23/30\n",
      "114/114 [==============================] - 5s 42ms/step - loss: 0.0025 - acc: 0.9992 - val_loss: 0.3816 - val_acc: 0.9576\n",
      "Epoch 24/30\n",
      "114/114 [==============================] - 5s 42ms/step - loss: 0.0079 - acc: 0.9984 - val_loss: 0.3249 - val_acc: 0.9616\n",
      "Epoch 25/30\n",
      "114/114 [==============================] - 5s 42ms/step - loss: 0.0039 - acc: 0.9995 - val_loss: 0.3267 - val_acc: 0.9616\n",
      "Epoch 26/30\n",
      "114/114 [==============================] - 5s 42ms/step - loss: 0.0037 - acc: 0.9990 - val_loss: 0.3186 - val_acc: 0.9631\n",
      "Epoch 27/30\n",
      "114/114 [==============================] - 5s 42ms/step - loss: 0.0016 - acc: 0.9996 - val_loss: 0.3314 - val_acc: 0.9641\n",
      "Epoch 28/30\n",
      "114/114 [==============================] - 5s 42ms/step - loss: 0.0041 - acc: 0.9990 - val_loss: 0.3640 - val_acc: 0.9641\n",
      "Epoch 29/30\n",
      "114/114 [==============================] - 5s 42ms/step - loss: 0.0038 - acc: 0.9990 - val_loss: 0.3574 - val_acc: 0.9661\n",
      "Epoch 30/30\n",
      "114/114 [==============================] - 5s 42ms/step - loss: 0.0032 - acc: 0.9989 - val_loss: 0.3907 - val_acc: 0.9611\n"
     ]
    }
   ],
   "source": [
    "history = model1.fit_generator(train_generator,\n",
    "                               steps_per_epoch=114, \n",
    "                               epochs=30,\n",
    "                               validation_data=validation_generator,\n",
    "                               validation_steps=32)"
   ]
  },
  {
   "cell_type": "code",
   "execution_count": 8,
   "metadata": {},
   "outputs": [
    {
     "data": {
      "image/png": "[encoded data removed]",
      "text/plain": [
       "<Figure size 432x288 with 1 Axes>"
      ]
     },
     "metadata": {
      "needs_background": "light"
     },
     "output_type": "display_data"
    }
   ],
   "source": [
    "import matplotlib.pyplot as plt\n",
    "\n",
    "history_dict = history.history\n",
    "loss = history_dict['loss']\n",
    "val_loss = history_dict['val_loss']\n",
    "\n",
    "epochs = range(1, len(loss) + 1)\n",
    "\n",
    "plt.plot(epochs, loss, 'bo', label = 'Training loss')\n",
    "plt.plot(epochs, val_loss, 'b', label = 'Validation loss')\n",
    "plt.title('Training and validation loss')\n",
    "plt.xlabel('Epochs')\n",
    "plt.ylabel('Loss')\n",
    "plt.legend()\n",
    "\n",
    "plt.show()"
   ]
  },
  {
   "cell_type": "code",
   "execution_count": 9,
   "metadata": {},
   "outputs": [
    {
     "data": {
      "image/png": "[encoded data removed]",
      "text/plain": [
       "<Figure size 432x288 with 1 Axes>"
      ]
     },
     "metadata": {
      "needs_background": "light"
     },
     "output_type": "display_data"
    }
   ],
   "source": [
    "plt.clf()\n",
    "acc = history_dict['acc']\n",
    "val_acc = history_dict['val_acc']\n",
    "\n",
    "plt.plot(epochs, acc, 'bo', label = 'Training acc')\n",
    "plt.plot(epochs, val_acc, 'b', label = 'Validation acc')\n",
    "plt.title('Training and validation accuracy')\n",
    "plt.xlabel('Epochs')\n",
    "plt.ylabel('acc')\n",
    "plt.legend()\n",
    "\n",
    "plt.show()"
   ]
  },
  {
   "cell_type": "code",
   "execution_count": 10,
   "metadata": {},
   "outputs": [
    {
     "data": {
      "text/plain": [
       "6"
      ]
     },
     "execution_count": 10,
     "metadata": {},
     "output_type": "execute_result"
    }
   ],
   "source": [
    "loss = history_dict['val_loss']\n",
    "loss.index(min(loss))"
   ]
  },
  {
   "cell_type": "code",
   "execution_count": 11,
   "metadata": {},
   "outputs": [
    {
     "name": "stdout",
     "output_type": "stream",
     "text": [
      "USPS Val acc\n",
      "0.9646238166417539\n"
     ]
    }
   ],
   "source": [
    "print('USPS Val acc')\n",
    "print(val_acc[6])"
   ]
  }
 ],
 "metadata": {
  "hide_input": false,
  "kernelspec": {
   "display_name": "Python 3",
   "language": "python",
   "name": "python3"
  },
  "language_info": {
   "codemirror_mode": {
    "name": "ipython",
    "version": 3
   },
   "file_extension": ".py",
   "mimetype": "text/x-python",
   "name": "python",
   "nbconvert_exporter": "python",
   "pygments_lexer": "ipython3",
   "version": "3.6.8"
  },
  "varInspector": {
   "cols": {
    "lenName": 16,
    "lenType": 16,
    "lenVar": 40
   },
   "kernels_config": {
    "python": {
     "delete_cmd_postfix": "",
     "delete_cmd_prefix": "del ",
     "library": "var_list.py",
     "varRefreshCmd": "print(var_dic_list())"
    },
    "r": {
     "delete_cmd_postfix": ") ",
     "delete_cmd_prefix": "rm(",
     "library": "var_list.r",
     "varRefreshCmd": "cat(var_dic_list()) "
    }
   },
   "types_to_exclude": [
    "module",
    "function",
    "builtin_function_or_method",
    "instance",
    "_Feature"
   ],
   "window_display": false
  }
 },
 "nbformat": 4,
 "nbformat_minor": 2
}
