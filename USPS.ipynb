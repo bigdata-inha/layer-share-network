{
 "cells": [
  {
   "cell_type": "code",
   "execution_count": 1,
   "metadata": {},
   "outputs": [],
   "source": [
    "import os, shutil\n",
    "\n",
    "train_dir = 'C:/Users/KIMHAKBIN/A_My Python/Datacloud/digits/Original/USPS_categorize/train'\n",
    "test_dir = 'C:/Users/KIMHAKBIN/A_My Python/Datacloud/digits/Original/USPS_categorize/test'"
   ]
  },
  {
   "cell_type": "code",
   "execution_count": 2,
   "metadata": {},
   "outputs": [
    {
     "name": "stderr",
     "output_type": "stream",
     "text": [
      "Using TensorFlow backend.\n"
     ]
    },
    {
     "name": "stdout",
     "output_type": "stream",
     "text": [
      "Found 7291 images belonging to 10 classes.\n",
      "Found 2007 images belonging to 10 classes.\n"
     ]
    }
   ],
   "source": [
    "from keras.preprocessing.image import ImageDataGenerator\n",
    "\n",
    "train_datagen = ImageDataGenerator(rescale = 1./255)\n",
    "test_datagen = ImageDataGenerator(rescale = 1./255)\n",
    "\n",
    "\n",
    "#train_datagen.fit(images, augment=True, seed=seed)\n",
    "\n",
    "train_generator = train_datagen.flow_from_directory(\n",
    "        train_dir,\n",
    "        target_size = (28,28),\n",
    "        batch_size=64,\n",
    "        color_mode=\"grayscale\",\n",
    "        class_mode='categorical')\n",
    "\n",
    "validation_generator = test_datagen.flow_from_directory(\n",
    "        test_dir,\n",
    "        target_size = (28,28),\n",
    "        batch_size=64,\n",
    "        color_mode=\"grayscale\",\n",
    "        class_mode='categorical')"
   ]
  },
  {
   "cell_type": "code",
   "execution_count": 3,
   "metadata": {},
   "outputs": [],
   "source": [
    "from keras import layers\n",
    "from keras import models\n",
    "\n",
    "model1 = models.Sequential()\n",
    "model1.add(layers.Conv2D(32, (3, 3), activation='relu', input_shape=(28, 28, 1)))\n",
    "model1.add(layers.Conv2D(32, (3, 3), activation='relu'))\n",
    "model1.add(layers.MaxPooling2D((2,2)))\n",
    "\n",
    "model1.add(layers.Conv2D(64, (3, 3), activation='relu'))\n",
    "model1.add(layers.Conv2D(64, (3, 3), activation='relu'))\n",
    "model1.add(layers.MaxPooling2D((2,2)))\n",
    "\n",
    "model1.add(layers.Flatten())\n",
    "model1.add(layers.Dense(128, activation='relu'))\n",
    "model1.add(layers.Dense(10, activation='softmax'))"
   ]
  },
  {
   "cell_type": "code",
   "execution_count": 4,
   "metadata": {},
   "outputs": [],
   "source": [
    "model1.compile(optimizer='rmsprop', loss='categorical_crossentropy', metrics=['accuracy'])"
   ]
  },
  {
   "cell_type": "code",
   "execution_count": 5,
   "metadata": {
    "scrolled": false
   },
   "outputs": [
    {
     "name": "stdout",
     "output_type": "stream",
     "text": [
      "Epoch 1/30\n",
      "114/114 [==============================] - 11s 93ms/step - loss: 0.4538 - acc: 0.8613 - val_loss: 0.2540 - val_acc: 0.9297\n",
      "Epoch 2/30\n",
      "114/114 [==============================] - 5s 41ms/step - loss: 0.1119 - acc: 0.9627 - val_loss: 0.2399 - val_acc: 0.9367\n",
      "Epoch 3/30\n",
      "114/114 [==============================] - 5s 41ms/step - loss: 0.0670 - acc: 0.9786 - val_loss: 0.2041 - val_acc: 0.9542\n",
      "Epoch 4/30\n",
      "114/114 [==============================] - 5s 41ms/step - loss: 0.0460 - acc: 0.9857 - val_loss: 0.2590 - val_acc: 0.9397\n",
      "Epoch 5/30\n",
      "114/114 [==============================] - 5s 41ms/step - loss: 0.0346 - acc: 0.9900 - val_loss: 0.1784 - val_acc: 0.9542\n",
      "Epoch 6/30\n",
      "114/114 [==============================] - 5s 41ms/step - loss: 0.0237 - acc: 0.9937 - val_loss: 0.2424 - val_acc: 0.9502\n",
      "Epoch 7/30\n",
      "114/114 [==============================] - 5s 41ms/step - loss: 0.0191 - acc: 0.9941 - val_loss: 0.2440 - val_acc: 0.9567\n",
      "Epoch 8/30\n",
      "114/114 [==============================] - 5s 41ms/step - loss: 0.0167 - acc: 0.9945 - val_loss: 0.2488 - val_acc: 0.9537\n",
      "Epoch 9/30\n",
      "114/114 [==============================] - 5s 41ms/step - loss: 0.0152 - acc: 0.9956 - val_loss: 0.2803 - val_acc: 0.9596\n",
      "Epoch 10/30\n",
      "114/114 [==============================] - 5s 41ms/step - loss: 0.0126 - acc: 0.9960 - val_loss: 0.2958 - val_acc: 0.9542\n",
      "Epoch 11/30\n",
      "114/114 [==============================] - 5s 42ms/step - loss: 0.0104 - acc: 0.9968 - val_loss: 0.2965 - val_acc: 0.9567\n",
      "Epoch 12/30\n",
      "114/114 [==============================] - 5s 43ms/step - loss: 0.0084 - acc: 0.9977 - val_loss: 0.2606 - val_acc: 0.9611\n",
      "Epoch 13/30\n",
      "114/114 [==============================] - 5s 42ms/step - loss: 0.0091 - acc: 0.9974 - val_loss: 0.2738 - val_acc: 0.9616\n",
      "Epoch 14/30\n",
      "114/114 [==============================] - 5s 41ms/step - loss: 0.0111 - acc: 0.9974 - val_loss: 0.2666 - val_acc: 0.9581\n",
      "Epoch 15/30\n",
      "114/114 [==============================] - 5s 41ms/step - loss: 0.0065 - acc: 0.9977 - val_loss: 0.3244 - val_acc: 0.9626\n",
      "Epoch 16/30\n",
      "114/114 [==============================] - 5s 42ms/step - loss: 0.0052 - acc: 0.9989 - val_loss: 0.2850 - val_acc: 0.9656\n",
      "Epoch 17/30\n",
      "114/114 [==============================] - 5s 42ms/step - loss: 0.0064 - acc: 0.9982 - val_loss: 0.3439 - val_acc: 0.9586\n",
      "Epoch 18/30\n",
      "114/114 [==============================] - 5s 41ms/step - loss: 0.0039 - acc: 0.9990 - val_loss: 0.3512 - val_acc: 0.9591\n",
      "Epoch 19/30\n",
      "114/114 [==============================] - 5s 43ms/step - loss: 0.0067 - acc: 0.9988 - val_loss: 0.3335 - val_acc: 0.9626\n",
      "Epoch 20/30\n",
      "114/114 [==============================] - 5s 41ms/step - loss: 0.0052 - acc: 0.9985 - val_loss: 0.3262 - val_acc: 0.9611\n",
      "Epoch 21/30\n",
      "114/114 [==============================] - 5s 41ms/step - loss: 0.0063 - acc: 0.9985 - val_loss: 0.2874 - val_acc: 0.9631\n",
      "Epoch 22/30\n",
      "114/114 [==============================] - 5s 41ms/step - loss: 0.0040 - acc: 0.9985 - val_loss: 0.3374 - val_acc: 0.9631\n",
      "Epoch 23/30\n",
      "114/114 [==============================] - 5s 41ms/step - loss: 0.0039 - acc: 0.9992 - val_loss: 0.3277 - val_acc: 0.9621\n",
      "Epoch 24/30\n",
      "114/114 [==============================] - 5s 41ms/step - loss: 0.0035 - acc: 0.9989 - val_loss: 0.3401 - val_acc: 0.9641\n",
      "Epoch 25/30\n",
      "114/114 [==============================] - 5s 41ms/step - loss: 0.0055 - acc: 0.9990 - val_loss: 0.4506 - val_acc: 0.9492\n",
      "Epoch 26/30\n",
      "114/114 [==============================] - 5s 41ms/step - loss: 0.0061 - acc: 0.9984 - val_loss: 0.3466 - val_acc: 0.9641\n",
      "Epoch 27/30\n",
      "114/114 [==============================] - 5s 41ms/step - loss: 0.0058 - acc: 0.9984 - val_loss: 0.3336 - val_acc: 0.9611\n",
      "Epoch 28/30\n",
      "114/114 [==============================] - 5s 41ms/step - loss: 0.0063 - acc: 0.9984 - val_loss: 0.3015 - val_acc: 0.9656\n",
      "Epoch 29/30\n",
      "114/114 [==============================] - 5s 41ms/step - loss: 0.0023 - acc: 0.9996 - val_loss: 0.4180 - val_acc: 0.9586\n",
      "Epoch 30/30\n",
      "114/114 [==============================] - 5s 41ms/step - loss: 0.0035 - acc: 0.9993 - val_loss: 0.3975 - val_acc: 0.9621\n"
     ]
    }
   ],
   "source": [
    "history = model1.fit_generator(train_generator,\n",
    "                               steps_per_epoch=114, \n",
    "                               epochs=30,\n",
    "                               validation_data=validation_generator,\n",
    "                               validation_steps=32)"
   ]
  },
  {
   "cell_type": "code",
   "execution_count": 7,
   "metadata": {},
   "outputs": [
    {
     "data": {
      "image/png": "[encoded data removed]",
      "text/plain": [
       "<Figure size 432x288 with 1 Axes>"
      ]
     },
     "metadata": {
      "needs_background": "light"
     },
     "output_type": "display_data"
    }
   ],
   "source": [
    "import matplotlib.pyplot as plt\n",
    "\n",
    "history_dict = history.history\n",
    "loss = history_dict['loss']\n",
    "val_loss = history_dict['val_loss']\n",
    "\n",
    "epochs = range(1, len(loss) + 1)\n",
    "\n",
    "plt.plot(epochs, loss, 'bo', label = 'Training loss')\n",
    "plt.plot(epochs, val_loss, 'b', label = 'Validation loss')\n",
    "plt.title('Training and validation loss')\n",
    "plt.xlabel('Epochs')\n",
    "plt.ylabel('Loss')\n",
    "plt.legend()\n",
    "\n",
    "plt.show()"
   ]
  },
  {
   "cell_type": "code",
   "execution_count": 8,
   "metadata": {},
   "outputs": [
    {
     "data": {
      "image/png": "[encoded data removed]",
      "text/plain": [
       "<Figure size 432x288 with 1 Axes>"
      ]
     },
     "metadata": {
      "needs_background": "light"
     },
     "output_type": "display_data"
    }
   ],
   "source": [
    "plt.clf()\n",
    "acc = history_dict['acc']\n",
    "val_acc = history_dict['val_acc']\n",
    "\n",
    "plt.plot(epochs, acc, 'bo', label = 'Training acc')\n",
    "plt.plot(epochs, val_acc, 'b', label = 'Validation acc')\n",
    "plt.title('Training and validation accuracy')\n",
    "plt.xlabel('Epochs')\n",
    "plt.ylabel('acc')\n",
    "plt.legend()\n",
    "\n",
    "plt.show()"
   ]
  }
 ],
 "metadata": {
  "hide_input": false,
  "kernelspec": {
   "display_name": "Python 3",
   "language": "python",
   "name": "python3"
  },
  "language_info": {
   "codemirror_mode": {
    "name": "ipython",
    "version": 3
   },
   "file_extension": ".py",
   "mimetype": "text/x-python",
   "name": "python",
   "nbconvert_exporter": "python",
   "pygments_lexer": "ipython3",
   "version": "3.6.8"
  },
  "varInspector": {
   "cols": {
    "lenName": 16,
    "lenType": 16,
    "lenVar": 40
   },
   "kernels_config": {
    "python": {
     "delete_cmd_postfix": "",
     "delete_cmd_prefix": "del ",
     "library": "var_list.py",
     "varRefreshCmd": "print(var_dic_list())"
    },
    "r": {
     "delete_cmd_postfix": ") ",
     "delete_cmd_prefix": "rm(",
     "library": "var_list.r",
     "varRefreshCmd": "cat(var_dic_list()) "
    }
   },
   "types_to_exclude": [
    "module",
    "function",
    "builtin_function_or_method",
    "instance",
    "_Feature"
   ],
   "window_display": false
  }
 },
 "nbformat": 4,
 "nbformat_minor": 2
}
