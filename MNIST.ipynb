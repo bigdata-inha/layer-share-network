{
 "cells": [
  {
   "cell_type": "code",
   "execution_count": 1,
   "metadata": {},
   "outputs": [],
   "source": [
    "import os\n",
    "\n",
    "train_dir = 'C:/Users/KIMHAKBIN/A_My Python/Datacloud/digits/MNIST_mni/train'\n",
    "test_dir = 'C:/Users/KIMHAKBIN/A_My Python/Datacloud/digits/MNIST_mni/test'"
   ]
  },
  {
   "cell_type": "code",
   "execution_count": 2,
   "metadata": {},
   "outputs": [
    {
     "name": "stderr",
     "output_type": "stream",
     "text": [
      "Using TensorFlow backend.\n"
     ]
    },
    {
     "name": "stdout",
     "output_type": "stream",
     "text": [
      "Found 7291 images belonging to 10 classes.\n",
      "Found 2007 images belonging to 10 classes.\n"
     ]
    }
   ],
   "source": [
    "from keras.preprocessing.image import ImageDataGenerator\n",
    "\n",
    "train_datagen = ImageDataGenerator(rescale = 1./255)\n",
    "test_datagen = ImageDataGenerator(rescale = 1./255)\n",
    "\n",
    "\n",
    "#train_datagen.fit(images, augment=True, seed=seed)\n",
    "\n",
    "train_generator = train_datagen.flow_from_directory(\n",
    "        train_dir,\n",
    "        target_size = (28,28),\n",
    "        batch_size=64,\n",
    "        color_mode=\"grayscale\",\n",
    "        class_mode='categorical')\n",
    "\n",
    "validation_generator = test_datagen.flow_from_directory(\n",
    "        test_dir,\n",
    "        target_size = (28,28),\n",
    "        batch_size=64,\n",
    "        color_mode=\"grayscale\",\n",
    "        class_mode='categorical')"
   ]
  },
  {
   "cell_type": "code",
   "execution_count": 3,
   "metadata": {},
   "outputs": [],
   "source": [
    "from keras import layers\n",
    "from keras import models\n",
    "\n",
    "model1 = models.Sequential()\n",
    "model1.add(layers.Conv2D(32, (3, 3), activation='relu', input_shape=(28, 28, 1)))\n",
    "model1.add(layers.BatchNormalization())\n",
    "model1.add(layers.Conv2D(32, (3, 3), activation='relu'))\n",
    "model1.add(layers.BatchNormalization())\n",
    "model1.add(layers.MaxPooling2D((2,2)))\n",
    "model1.add(layers.BatchNormalization())\n",
    "model1.add(layers.Dropout(0.4))\n",
    "\n",
    "model1.add(layers.Conv2D(64, (3, 3), activation='relu'))\n",
    "model1.add(layers.BatchNormalization())\n",
    "model1.add(layers.Conv2D(64, (3, 3), activation='relu'))\n",
    "model1.add(layers.BatchNormalization())\n",
    "model1.add(layers.MaxPooling2D((2,2)))\n",
    "model1.add(layers.BatchNormalization())\n",
    "model1.add(layers.Dropout(0.4))\n",
    "\n",
    "model1.add(layers.Flatten())\n",
    "model1.add(layers.Dense(128, activation='relu'))\n",
    "model1.add(layers.BatchNormalization())\n",
    "model1.add(layers.Dropout(0.4))\n",
    "model1.add(layers.Dense(10, activation='softmax'))"
   ]
  },
  {
   "cell_type": "code",
   "execution_count": 4,
   "metadata": {},
   "outputs": [
    {
     "name": "stdout",
     "output_type": "stream",
     "text": [
      "_________________________________________________________________\n",
      "Layer (type)                 Output Shape              Param #   \n",
      "=================================================================\n",
      "conv2d_1 (Conv2D)            (None, 26, 26, 32)        320       \n",
      "_________________________________________________________________\n",
      "batch_normalization_1 (Batch (None, 26, 26, 32)        128       \n",
      "_________________________________________________________________\n",
      "conv2d_2 (Conv2D)            (None, 24, 24, 32)        9248      \n",
      "_________________________________________________________________\n",
      "batch_normalization_2 (Batch (None, 24, 24, 32)        128       \n",
      "_________________________________________________________________\n",
      "max_pooling2d_1 (MaxPooling2 (None, 12, 12, 32)        0         \n",
      "_________________________________________________________________\n",
      "batch_normalization_3 (Batch (None, 12, 12, 32)        128       \n",
      "_________________________________________________________________\n",
      "dropout_1 (Dropout)          (None, 12, 12, 32)        0         \n",
      "_________________________________________________________________\n",
      "conv2d_3 (Conv2D)            (None, 10, 10, 64)        18496     \n",
      "_________________________________________________________________\n",
      "batch_normalization_4 (Batch (None, 10, 10, 64)        256       \n",
      "_________________________________________________________________\n",
      "conv2d_4 (Conv2D)            (None, 8, 8, 64)          36928     \n",
      "_________________________________________________________________\n",
      "batch_normalization_5 (Batch (None, 8, 8, 64)          256       \n",
      "_________________________________________________________________\n",
      "max_pooling2d_2 (MaxPooling2 (None, 4, 4, 64)          0         \n",
      "_________________________________________________________________\n",
      "batch_normalization_6 (Batch (None, 4, 4, 64)          256       \n",
      "_________________________________________________________________\n",
      "dropout_2 (Dropout)          (None, 4, 4, 64)          0         \n",
      "_________________________________________________________________\n",
      "flatten_1 (Flatten)          (None, 1024)              0         \n",
      "_________________________________________________________________\n",
      "dense_1 (Dense)              (None, 128)               131200    \n",
      "_________________________________________________________________\n",
      "batch_normalization_7 (Batch (None, 128)               512       \n",
      "_________________________________________________________________\n",
      "dropout_3 (Dropout)          (None, 128)               0         \n",
      "_________________________________________________________________\n",
      "dense_2 (Dense)              (None, 10)                1290      \n",
      "=================================================================\n",
      "Total params: 199,146\n",
      "Trainable params: 198,314\n",
      "Non-trainable params: 832\n",
      "_________________________________________________________________\n"
     ]
    }
   ],
   "source": [
    "model1.summary()"
   ]
  },
  {
   "cell_type": "code",
   "execution_count": 5,
   "metadata": {},
   "outputs": [],
   "source": [
    "model1.compile(optimizer='rmsprop', loss='categorical_crossentropy', metrics=['accuracy'])"
   ]
  },
  {
   "cell_type": "code",
   "execution_count": 6,
   "metadata": {
    "scrolled": false
   },
   "outputs": [
    {
     "name": "stdout",
     "output_type": "stream",
     "text": [
      "Epoch 1/60\n",
      "114/114 [==============================] - 6s 57ms/step - loss: 0.5536 - acc: 0.8281 - val_loss: 0.1693 - val_acc: 0.9452\n",
      "Epoch 2/60\n",
      "114/114 [==============================] - 4s 39ms/step - loss: 0.1577 - acc: 0.9508 - val_loss: 0.1249 - val_acc: 0.9596\n",
      "Epoch 3/60\n",
      "114/114 [==============================] - 5s 41ms/step - loss: 0.1169 - acc: 0.9663 - val_loss: 0.1198 - val_acc: 0.9606\n",
      "Epoch 4/60\n",
      "114/114 [==============================] - 4s 39ms/step - loss: 0.0881 - acc: 0.9729 - val_loss: 0.0725 - val_acc: 0.9751\n",
      "Epoch 5/60\n",
      "114/114 [==============================] - 4s 39ms/step - loss: 0.0738 - acc: 0.9775 - val_loss: 0.0708 - val_acc: 0.9791\n",
      "Epoch 6/60\n",
      "114/114 [==============================] - 4s 39ms/step - loss: 0.0685 - acc: 0.9797 - val_loss: 0.0604 - val_acc: 0.9786\n",
      "Epoch 7/60\n",
      "114/114 [==============================] - 4s 39ms/step - loss: 0.0628 - acc: 0.9786 - val_loss: 0.0581 - val_acc: 0.9811\n",
      "Epoch 8/60\n",
      "114/114 [==============================] - 4s 39ms/step - loss: 0.0538 - acc: 0.9833 - val_loss: 0.0507 - val_acc: 0.9806\n",
      "Epoch 9/60\n",
      "114/114 [==============================] - 4s 39ms/step - loss: 0.0447 - acc: 0.9867 - val_loss: 0.0407 - val_acc: 0.9841\n",
      "Epoch 10/60\n",
      "114/114 [==============================] - 4s 39ms/step - loss: 0.0334 - acc: 0.9878 - val_loss: 0.0493 - val_acc: 0.9831\n",
      "Epoch 11/60\n",
      "114/114 [==============================] - 4s 39ms/step - loss: 0.0338 - acc: 0.9910 - val_loss: 0.0544 - val_acc: 0.9826\n",
      "Epoch 12/60\n",
      "114/114 [==============================] - 4s 39ms/step - loss: 0.0258 - acc: 0.9911 - val_loss: 0.0564 - val_acc: 0.9821\n",
      "Epoch 13/60\n",
      "114/114 [==============================] - 4s 39ms/step - loss: 0.0362 - acc: 0.9883 - val_loss: 0.0609 - val_acc: 0.9801\n",
      "Epoch 14/60\n",
      "114/114 [==============================] - 4s 39ms/step - loss: 0.0255 - acc: 0.9918 - val_loss: 0.0484 - val_acc: 0.9826\n",
      "Epoch 15/60\n",
      "114/114 [==============================] - 4s 39ms/step - loss: 0.0347 - acc: 0.9893 - val_loss: 0.0514 - val_acc: 0.9841\n",
      "Epoch 16/60\n",
      "114/114 [==============================] - 4s 39ms/step - loss: 0.0259 - acc: 0.9918 - val_loss: 0.0617 - val_acc: 0.9836\n",
      "Epoch 17/60\n",
      "114/114 [==============================] - 4s 39ms/step - loss: 0.0266 - acc: 0.9923 - val_loss: 0.0584 - val_acc: 0.9846\n",
      "Epoch 18/60\n",
      "114/114 [==============================] - 4s 39ms/step - loss: 0.0236 - acc: 0.9922 - val_loss: 0.0594 - val_acc: 0.9821ss: 0.018\n",
      "Epoch 19/60\n",
      "114/114 [==============================] - 4s 39ms/step - loss: 0.0220 - acc: 0.9925 - val_loss: 0.0477 - val_acc: 0.9880 lo\n",
      "Epoch 20/60\n",
      "114/114 [==============================] - 4s 39ms/step - loss: 0.0180 - acc: 0.9942 - val_loss: 0.0639 - val_acc: 0.9826 ETA: 0s - loss: 0.0171 - acc: \n",
      "Epoch 21/60\n",
      "114/114 [==============================] - 4s 39ms/step - loss: 0.0201 - acc: 0.9930 - val_loss: 0.0568 - val_acc: 0.9806\n",
      "Epoch 22/60\n",
      "114/114 [==============================] - 4s 39ms/step - loss: 0.0198 - acc: 0.9933 - val_loss: 0.0544 - val_acc: 0.9831\n",
      "Epoch 23/60\n",
      "114/114 [==============================] - 4s 39ms/step - loss: 0.0160 - acc: 0.9948 - val_loss: 0.0657 - val_acc: 0.9806\n",
      "Epoch 24/60\n",
      "114/114 [==============================] - 4s 39ms/step - loss: 0.0149 - acc: 0.9946 - val_loss: 0.0580 - val_acc: 0.9806\n",
      "Epoch 25/60\n",
      "114/114 [==============================] - 4s 39ms/step - loss: 0.0173 - acc: 0.9942 - val_loss: 0.0605 - val_acc: 0.9821 acc:\n",
      "Epoch 26/60\n",
      "114/114 [==============================] - 4s 39ms/step - loss: 0.0160 - acc: 0.9949 - val_loss: 0.0552 - val_acc: 0.9826\n",
      "Epoch 27/60\n",
      "114/114 [==============================] - 4s 39ms/step - loss: 0.0123 - acc: 0.9953 - val_loss: 0.0430 - val_acc: 0.9865\n",
      "Epoch 28/60\n",
      "114/114 [==============================] - 4s 39ms/step - loss: 0.0142 - acc: 0.9951 - val_loss: 0.0374 - val_acc: 0.9875\n",
      "Epoch 29/60\n",
      "114/114 [==============================] - 4s 39ms/step - loss: 0.0107 - acc: 0.9970 - val_loss: 0.0750 - val_acc: 0.9801\n",
      "Epoch 30/60\n",
      "114/114 [==============================] - 4s 39ms/step - loss: 0.0153 - acc: 0.9940 - val_loss: 0.0508 - val_acc: 0.9851\n",
      "Epoch 31/60\n",
      "114/114 [==============================] - 5s 40ms/step - loss: 0.0118 - acc: 0.9960 - val_loss: 0.0498 - val_acc: 0.9831\n",
      "Epoch 32/60\n",
      "114/114 [==============================] - 5s 40ms/step - loss: 0.0102 - acc: 0.9967 - val_loss: 0.0441 - val_acc: 0.9875\n",
      "Epoch 33/60\n",
      "114/114 [==============================] - 5s 40ms/step - loss: 0.0150 - acc: 0.9955 - val_loss: 0.0470 - val_acc: 0.9870\n",
      "Epoch 34/60\n",
      "114/114 [==============================] - 5s 40ms/step - loss: 0.0115 - acc: 0.9962 - val_loss: 0.0437 - val_acc: 0.9856\n",
      "Epoch 35/60\n",
      "114/114 [==============================] - 5s 40ms/step - loss: 0.0099 - acc: 0.9967 - val_loss: 0.0513 - val_acc: 0.9856\n",
      "Epoch 36/60\n",
      "114/114 [==============================] - 5s 40ms/step - loss: 0.0089 - acc: 0.9973 - val_loss: 0.0721 - val_acc: 0.9801\n",
      "Epoch 37/60\n",
      "114/114 [==============================] - 5s 40ms/step - loss: 0.0125 - acc: 0.9962 - val_loss: 0.0645 - val_acc: 0.9831\n",
      "Epoch 38/60\n",
      "114/114 [==============================] - 5s 40ms/step - loss: 0.0112 - acc: 0.9967 - val_loss: 0.0607 - val_acc: 0.9860\n",
      "Epoch 39/60\n",
      "114/114 [==============================] - 5s 40ms/step - loss: 0.0110 - acc: 0.9968 - val_loss: 0.0485 - val_acc: 0.9851\n",
      "Epoch 40/60\n",
      "114/114 [==============================] - 5s 40ms/step - loss: 0.0103 - acc: 0.9957 - val_loss: 0.0549 - val_acc: 0.9865\n",
      "Epoch 41/60\n",
      "114/114 [==============================] - 5s 40ms/step - loss: 0.0125 - acc: 0.9959 - val_loss: 0.0534 - val_acc: 0.9851\n",
      "Epoch 42/60\n",
      "114/114 [==============================] - 5s 40ms/step - loss: 0.0104 - acc: 0.9966 - val_loss: 0.0448 - val_acc: 0.9880\n",
      "Epoch 43/60\n",
      "114/114 [==============================] - 5s 40ms/step - loss: 0.0107 - acc: 0.9966 - val_loss: 0.0479 - val_acc: 0.9846\n",
      "Epoch 44/60\n",
      "114/114 [==============================] - 5s 40ms/step - loss: 0.0063 - acc: 0.9981 - val_loss: 0.0430 - val_acc: 0.9856\n",
      "Epoch 45/60\n",
      "114/114 [==============================] - 5s 40ms/step - loss: 0.0130 - acc: 0.9952 - val_loss: 0.0478 - val_acc: 0.9875\n",
      "Epoch 46/60\n",
      "114/114 [==============================] - 5s 40ms/step - loss: 0.0106 - acc: 0.9967 - val_loss: 0.0489 - val_acc: 0.9875\n",
      "Epoch 47/60\n",
      "114/114 [==============================] - 5s 40ms/step - loss: 0.0106 - acc: 0.9974 - val_loss: 0.0486 - val_acc: 0.9870\n",
      "Epoch 48/60\n",
      "114/114 [==============================] - 5s 40ms/step - loss: 0.0077 - acc: 0.9968 - val_loss: 0.0461 - val_acc: 0.9895\n",
      "Epoch 49/60\n",
      "114/114 [==============================] - 5s 40ms/step - loss: 0.0091 - acc: 0.9971 - val_loss: 0.0378 - val_acc: 0.9885\n",
      "Epoch 50/60\n",
      "114/114 [==============================] - 5s 40ms/step - loss: 0.0078 - acc: 0.9971 - val_loss: 0.0512 - val_acc: 0.9875\n",
      "Epoch 51/60\n",
      "114/114 [==============================] - 5s 40ms/step - loss: 0.0076 - acc: 0.9967 - val_loss: 0.0471 - val_acc: 0.9836\n",
      "Epoch 52/60\n",
      "114/114 [==============================] - 5s 40ms/step - loss: 0.0113 - acc: 0.9963 - val_loss: 0.0476 - val_acc: 0.9870\n",
      "Epoch 53/60\n",
      "114/114 [==============================] - 5s 40ms/step - loss: 0.0049 - acc: 0.9988 - val_loss: 0.0521 - val_acc: 0.9856\n",
      "Epoch 54/60\n",
      "114/114 [==============================] - 5s 40ms/step - loss: 0.0079 - acc: 0.9974 - val_loss: 0.0534 - val_acc: 0.9860\n",
      "Epoch 55/60\n",
      "114/114 [==============================] - 5s 40ms/step - loss: 0.0093 - acc: 0.9971 - val_loss: 0.0569 - val_acc: 0.9856\n",
      "Epoch 56/60\n",
      "114/114 [==============================] - 5s 40ms/step - loss: 0.0113 - acc: 0.9964 - val_loss: 0.0590 - val_acc: 0.9856\n",
      "Epoch 57/60\n",
      "114/114 [==============================] - 5s 40ms/step - loss: 0.0071 - acc: 0.9978 - val_loss: 0.0449 - val_acc: 0.9885\n",
      "Epoch 58/60\n",
      "114/114 [==============================] - 5s 40ms/step - loss: 0.0080 - acc: 0.9971 - val_loss: 0.0518 - val_acc: 0.9851\n",
      "Epoch 59/60\n",
      "114/114 [==============================] - 5s 40ms/step - loss: 0.0063 - acc: 0.9977 - val_loss: 0.0483 - val_acc: 0.9870\n",
      "Epoch 60/60\n",
      "114/114 [==============================] - 5s 40ms/step - loss: 0.0061 - acc: 0.9974 - val_loss: 0.0438 - val_acc: 0.9851\n"
     ]
    }
   ],
   "source": [
    "history = model1.fit_generator(train_generator,\n",
    "                               steps_per_epoch=114, \n",
    "                               epochs=60,\n",
    "                               validation_data=validation_generator,\n",
    "                               validation_steps=32)"
   ]
  },
  {
   "cell_type": "code",
   "execution_count": 8,
   "metadata": {},
   "outputs": [
    {
     "data": {
      "image/png": "[encoded data removed]",
      "text/plain": [
       "<Figure size 432x288 with 1 Axes>"
      ]
     },
     "metadata": {
      "needs_background": "light"
     },
     "output_type": "display_data"
    }
   ],
   "source": [
    "import matplotlib.pyplot as plt\n",
    "\n",
    "history_dict = history.history\n",
    "loss = history_dict['loss']\n",
    "val_loss = history_dict['val_loss']\n",
    "\n",
    "epochs = range(1, len(loss) + 1)\n",
    "\n",
    "plt.plot(epochs, loss, 'bo', label = 'Training loss')\n",
    "plt.plot(epochs, val_loss, 'b', label = 'Validation loss')\n",
    "plt.title('Training and validation loss')\n",
    "plt.xlabel('Epochs')\n",
    "plt.ylabel('Loss')\n",
    "plt.legend()\n",
    "\n",
    "plt.show()"
   ]
  },
  {
   "cell_type": "code",
   "execution_count": 9,
   "metadata": {},
   "outputs": [
    {
     "data": {
      "image/png": "[encoded data removed]",
      "text/plain": [
       "<Figure size 432x288 with 1 Axes>"
      ]
     },
     "metadata": {
      "needs_background": "light"
     },
     "output_type": "display_data"
    }
   ],
   "source": [
    "plt.clf()\n",
    "acc = history_dict['acc']\n",
    "val_acc = history_dict['val_acc']\n",
    "\n",
    "plt.plot(epochs, acc, 'bo', label = 'Training acc')\n",
    "plt.plot(epochs, val_acc, 'b', label = 'Validation acc')\n",
    "plt.title('Training and validation accuracy')\n",
    "plt.xlabel('Epochs')\n",
    "plt.ylabel('acc')\n",
    "plt.legend()\n",
    "\n",
    "plt.show()"
   ]
  },
  {
   "cell_type": "code",
   "execution_count": null,
   "metadata": {},
   "outputs": [],
   "source": []
  }
 ],
 "metadata": {
  "hide_input": false,
  "kernelspec": {
   "display_name": "Python 3",
   "language": "python",
   "name": "python3"
  },
  "varInspector": {
   "cols": {
    "lenName": 16,
    "lenType": 16,
    "lenVar": 40
   },
   "kernels_config": {
    "python": {
     "delete_cmd_postfix": "",
     "delete_cmd_prefix": "del ",
     "library": "var_list.py",
     "varRefreshCmd": "print(var_dic_list())"
    },
    "r": {
     "delete_cmd_postfix": ") ",
     "delete_cmd_prefix": "rm(",
     "library": "var_list.r",
     "varRefreshCmd": "cat(var_dic_list()) "
    }
   },
   "types_to_exclude": [
    "module",
    "function",
    "builtin_function_or_method",
    "instance",
    "_Feature"
   ],
   "window_display": false
  }
 },
 "nbformat": 4,
 "nbformat_minor": 2
}
