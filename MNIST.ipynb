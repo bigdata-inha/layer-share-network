{
 "cells": [
  {
   "cell_type": "code",
   "execution_count": 1,
   "metadata": {},
   "outputs": [],
   "source": [
    "import os\n",
    "\n",
    "train_dir = 'C:/Users/KIMHAKBIN/A_My Python/Datacloud/digits/MNIST_mni/train'\n",
    "test_dir = 'C:/Users/KIMHAKBIN/A_My Python/Datacloud/digits/MNIST_mni/test'"
   ]
  },
  {
   "cell_type": "code",
   "execution_count": 2,
   "metadata": {},
   "outputs": [
    {
     "name": "stderr",
     "output_type": "stream",
     "text": [
      "Using TensorFlow backend.\n"
     ]
    },
    {
     "name": "stdout",
     "output_type": "stream",
     "text": [
      "Found 7291 images belonging to 10 classes.\n",
      "Found 2007 images belonging to 10 classes.\n"
     ]
    }
   ],
   "source": [
    "from keras.preprocessing.image import ImageDataGenerator\n",
    "\n",
    "train_datagen = ImageDataGenerator(rescale = 1./255)\n",
    "test_datagen = ImageDataGenerator(rescale = 1./255)\n",
    "\n",
    "\n",
    "#train_datagen.fit(images, augment=True, seed=seed)\n",
    "\n",
    "train_generator = train_datagen.flow_from_directory(\n",
    "        train_dir,\n",
    "        target_size = (28,28),\n",
    "        batch_size=64,\n",
    "        color_mode=\"grayscale\",\n",
    "        class_mode='categorical')\n",
    "\n",
    "validation_generator = test_datagen.flow_from_directory(\n",
    "        test_dir,\n",
    "        target_size = (28,28),\n",
    "        batch_size=64,\n",
    "        color_mode=\"grayscale\",\n",
    "        class_mode='categorical')"
   ]
  },
  {
   "cell_type": "code",
   "execution_count": 3,
   "metadata": {},
   "outputs": [],
   "source": [
    "from keras import layers\n",
    "from keras import models\n",
    "\n",
    "model1 = models.Sequential()\n",
    "model1.add(layers.Conv2D(32, (3, 3), activation='relu', input_shape=(28, 28, 1)))\n",
    "model1.add(layers.Conv2D(32, (3, 3), activation='relu'))\n",
    "model1.add(layers.MaxPooling2D((2,2)))\n",
    "\n",
    "model1.add(layers.Conv2D(64, (3, 3), activation='relu'))\n",
    "model1.add(layers.Conv2D(64, (3, 3), activation='relu'))\n",
    "model1.add(layers.MaxPooling2D((2,2)))\n",
    "\n",
    "model1.add(layers.Flatten())\n",
    "model1.add(layers.Dense(128, activation='relu'))\n",
    "model1.add(layers.Dense(10, activation='softmax'))"
   ]
  },
  {
   "cell_type": "code",
   "execution_count": 4,
   "metadata": {},
   "outputs": [
    {
     "name": "stdout",
     "output_type": "stream",
     "text": [
      "_________________________________________________________________\n",
      "Layer (type)                 Output Shape              Param #   \n",
      "=================================================================\n",
      "conv2d_1 (Conv2D)            (None, 26, 26, 32)        320       \n",
      "_________________________________________________________________\n",
      "conv2d_2 (Conv2D)            (None, 24, 24, 32)        9248      \n",
      "_________________________________________________________________\n",
      "max_pooling2d_1 (MaxPooling2 (None, 12, 12, 32)        0         \n",
      "_________________________________________________________________\n",
      "conv2d_3 (Conv2D)            (None, 10, 10, 64)        18496     \n",
      "_________________________________________________________________\n",
      "conv2d_4 (Conv2D)            (None, 8, 8, 64)          36928     \n",
      "_________________________________________________________________\n",
      "max_pooling2d_2 (MaxPooling2 (None, 4, 4, 64)          0         \n",
      "_________________________________________________________________\n",
      "flatten_1 (Flatten)          (None, 1024)              0         \n",
      "_________________________________________________________________\n",
      "dense_1 (Dense)              (None, 128)               131200    \n",
      "_________________________________________________________________\n",
      "dense_2 (Dense)              (None, 10)                1290      \n",
      "=================================================================\n",
      "Total params: 197,482\n",
      "Trainable params: 197,482\n",
      "Non-trainable params: 0\n",
      "_________________________________________________________________\n"
     ]
    }
   ],
   "source": [
    "model1.summary()"
   ]
  },
  {
   "cell_type": "code",
   "execution_count": 5,
   "metadata": {},
   "outputs": [],
   "source": [
    "model1.compile(optimizer='rmsprop', loss='categorical_crossentropy', metrics=['accuracy'])"
   ]
  },
  {
   "cell_type": "code",
   "execution_count": 6,
   "metadata": {
    "scrolled": false
   },
   "outputs": [
    {
     "name": "stdout",
     "output_type": "stream",
     "text": [
      "Epoch 1/30\n",
      "114/114 [==============================] - 7s 58ms/step - loss: 0.4608 - acc: 0.8511 - val_loss: 0.1649 - val_acc: 0.9502\n",
      "Epoch 2/30\n",
      "114/114 [==============================] - 4s 39ms/step - loss: 0.1222 - acc: 0.9641 - val_loss: 0.1734 - val_acc: 0.9422\n",
      "Epoch 3/30\n",
      "114/114 [==============================] - 4s 39ms/step - loss: 0.0779 - acc: 0.9767 - val_loss: 0.1024 - val_acc: 0.9706\n",
      "Epoch 4/30\n",
      "114/114 [==============================] - 4s 39ms/step - loss: 0.0586 - acc: 0.9826 - val_loss: 0.0816 - val_acc: 0.9751\n",
      "Epoch 5/30\n",
      "114/114 [==============================] - 4s 39ms/step - loss: 0.0392 - acc: 0.9878 - val_loss: 0.0839 - val_acc: 0.9761\n",
      "Epoch 6/30\n",
      "114/114 [==============================] - 4s 39ms/step - loss: 0.0281 - acc: 0.9916 - val_loss: 0.0917 - val_acc: 0.9711\n",
      "Epoch 7/30\n",
      "114/114 [==============================] - 4s 39ms/step - loss: 0.0195 - acc: 0.9930 - val_loss: 0.1214 - val_acc: 0.9671\n",
      "Epoch 8/30\n",
      "114/114 [==============================] - 4s 39ms/step - loss: 0.0153 - acc: 0.9951 - val_loss: 0.1305 - val_acc: 0.9701\n",
      "Epoch 9/30\n",
      "114/114 [==============================] - 4s 39ms/step - loss: 0.0128 - acc: 0.9962 - val_loss: 0.1175 - val_acc: 0.9706\n",
      "Epoch 10/30\n",
      "114/114 [==============================] - 4s 39ms/step - loss: 0.0085 - acc: 0.9974 - val_loss: 0.1228 - val_acc: 0.9696\n",
      "Epoch 11/30\n",
      "114/114 [==============================] - 4s 39ms/step - loss: 0.0102 - acc: 0.9971 - val_loss: 0.1590 - val_acc: 0.9736\n",
      "Epoch 12/30\n",
      "114/114 [==============================] - 4s 39ms/step - loss: 0.0083 - acc: 0.9971 - val_loss: 0.1460 - val_acc: 0.9686\n",
      "Epoch 13/30\n",
      "114/114 [==============================] - 4s 39ms/step - loss: 0.0070 - acc: 0.9978 - val_loss: 0.1468 - val_acc: 0.9756\n",
      "Epoch 14/30\n",
      "114/114 [==============================] - 4s 39ms/step - loss: 0.0070 - acc: 0.9981 - val_loss: 0.1188 - val_acc: 0.97610\n",
      "Epoch 15/30\n",
      "114/114 [==============================] - 4s 39ms/step - loss: 0.0078 - acc: 0.9968 - val_loss: 0.1368 - val_acc: 0.9746\n",
      "Epoch 16/30\n",
      "114/114 [==============================] - 4s 39ms/step - loss: 0.0040 - acc: 0.9985 - val_loss: 0.1464 - val_acc: 0.9751\n",
      "Epoch 17/30\n",
      "114/114 [==============================] - 4s 39ms/step - loss: 0.0041 - acc: 0.9989 - val_loss: 0.1622 - val_acc: 0.9766\n",
      "Epoch 18/30\n",
      "114/114 [==============================] - 4s 39ms/step - loss: 0.0050 - acc: 0.9990 - val_loss: 0.2098 - val_acc: 0.9701\n",
      "Epoch 19/30\n",
      "114/114 [==============================] - 4s 39ms/step - loss: 0.0055 - acc: 0.9986 - val_loss: 0.2026 - val_acc: 0.9716\n",
      "Epoch 20/30\n",
      "114/114 [==============================] - 4s 39ms/step - loss: 0.0049 - acc: 0.9988 - val_loss: 0.1878 - val_acc: 0.9731\n",
      "Epoch 21/30\n",
      "114/114 [==============================] - 4s 39ms/step - loss: 0.0028 - acc: 0.9992 - val_loss: 0.1789 - val_acc: 0.9731\n",
      "Epoch 22/30\n",
      "114/114 [==============================] - 4s 39ms/step - loss: 0.0036 - acc: 0.9985 - val_loss: 0.2186 - val_acc: 0.9731\n",
      "Epoch 23/30\n",
      "114/114 [==============================] - 4s 39ms/step - loss: 0.0046 - acc: 0.9989 - val_loss: 0.1667 - val_acc: 0.9741\n",
      "Epoch 24/30\n",
      "114/114 [==============================] - 4s 39ms/step - loss: 1.3636e-04 - acc: 1.0000 - val_loss: 0.2387 - val_acc: 0.9711\n",
      "Epoch 25/30\n",
      "114/114 [==============================] - 4s 39ms/step - loss: 0.0046 - acc: 0.9993 - val_loss: 0.2312 - val_acc: 0.9681\n",
      "Epoch 26/30\n",
      "114/114 [==============================] - 4s 39ms/step - loss: 0.0022 - acc: 0.9990 - val_loss: 0.1985 - val_acc: 0.9736\n",
      "Epoch 27/30\n",
      "114/114 [==============================] - 4s 39ms/step - loss: 0.0039 - acc: 0.9995 - val_loss: 0.1488 - val_acc: 0.9781\n",
      "Epoch 28/30\n",
      "114/114 [==============================] - 4s 39ms/step - loss: 0.0016 - acc: 0.9995 - val_loss: 0.2413 - val_acc: 0.9686\n",
      "Epoch 29/30\n",
      "114/114 [==============================] - 4s 39ms/step - loss: 0.0027 - acc: 0.9993 - val_loss: 0.2107 - val_acc: 0.9756\n",
      "Epoch 30/30\n",
      "114/114 [==============================] - 5s 40ms/step - loss: 7.8135e-04 - acc: 0.9997 - val_loss: 0.1716 - val_acc: 0.9796\n"
     ]
    }
   ],
   "source": [
    "history = model1.fit_generator(train_generator,\n",
    "                               steps_per_epoch=114, \n",
    "                               epochs=30,\n",
    "                               validation_data=validation_generator,\n",
    "                               validation_steps=32)"
   ]
  },
  {
   "cell_type": "code",
   "execution_count": 8,
   "metadata": {},
   "outputs": [
    {
     "data": {
      "image/png": "[encoded data removed]",
      "text/plain": [
       "<Figure size 432x288 with 1 Axes>"
      ]
     },
     "metadata": {
      "needs_background": "light"
     },
     "output_type": "display_data"
    }
   ],
   "source": [
    "import matplotlib.pyplot as plt\n",
    "\n",
    "history_dict = history.history\n",
    "loss = history_dict['loss']\n",
    "val_loss = history_dict['val_loss']\n",
    "\n",
    "epochs = range(1, len(loss) + 1)\n",
    "\n",
    "plt.plot(epochs, loss, 'bo', label = 'Training loss')\n",
    "plt.plot(epochs, val_loss, 'b', label = 'Validation loss')\n",
    "plt.title('Training and validation loss')\n",
    "plt.xlabel('Epochs')\n",
    "plt.ylabel('Loss')\n",
    "plt.legend()\n",
    "\n",
    "plt.show()"
   ]
  },
  {
   "cell_type": "code",
   "execution_count": 9,
   "metadata": {},
   "outputs": [
    {
     "data": {
      "image/png": "[encoded data removed]",
      "text/plain": [
       "<Figure size 432x288 with 1 Axes>"
      ]
     },
     "metadata": {
      "needs_background": "light"
     },
     "output_type": "display_data"
    }
   ],
   "source": [
    "plt.clf()\n",
    "acc = history_dict['acc']\n",
    "val_acc = history_dict['val_acc']\n",
    "\n",
    "plt.plot(epochs, acc, 'bo', label = 'Training acc')\n",
    "plt.plot(epochs, val_acc, 'b', label = 'Validation acc')\n",
    "plt.title('Training and validation accuracy')\n",
    "plt.xlabel('Epochs')\n",
    "plt.ylabel('acc')\n",
    "plt.legend()\n",
    "\n",
    "plt.show()"
   ]
  }
 ],
 "metadata": {
  "hide_input": false,
  "kernelspec": {
   "display_name": "Python 3",
   "language": "python",
   "name": "python3"
  },
  "language_info": {
   "codemirror_mode": {
    "name": "ipython",
    "version": 3
   },
   "file_extension": ".py",
   "mimetype": "text/x-python",
   "name": "python",
   "nbconvert_exporter": "python",
   "pygments_lexer": "ipython3",
   "version": "3.6.8"
  },
  "varInspector": {
   "cols": {
    "lenName": 16,
    "lenType": 16,
    "lenVar": 40
   },
   "kernels_config": {
    "python": {
     "delete_cmd_postfix": "",
     "delete_cmd_prefix": "del ",
     "library": "var_list.py",
     "varRefreshCmd": "print(var_dic_list())"
    },
    "r": {
     "delete_cmd_postfix": ") ",
     "delete_cmd_prefix": "rm(",
     "library": "var_list.r",
     "varRefreshCmd": "cat(var_dic_list()) "
    }
   },
   "types_to_exclude": [
    "module",
    "function",
    "builtin_function_or_method",
    "instance",
    "_Feature"
   ],
   "window_display": false
  }
 },
 "nbformat": 4,
 "nbformat_minor": 2
}
